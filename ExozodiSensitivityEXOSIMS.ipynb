{
 "cells": [
  {
   "cell_type": "markdown",
   "metadata": {},
   "source": [
    "**reconcile t_occ and t_throughput again with paper**\n",
    "    - "
   ]
  },
  {
   "cell_type": "markdown",
   "metadata": {},
   "source": []
  },
  {
   "cell_type": "code",
   "execution_count": 1,
   "metadata": {},
   "outputs": [
    {
     "data": {
      "application/javascript": [
       "IPython.notebook.set_autosave_interval(60000)"
      ]
     },
     "metadata": {},
     "output_type": "display_data"
    },
    {
     "name": "stdout",
     "output_type": "stream",
     "text": [
      "Autosaving every 60 seconds\n",
      "4.2\n",
      "3.3.4\n"
     ]
    }
   ],
   "source": [
    "#import astropy.convolution as conv\n",
    "#dependencies:\n",
    "%autosave 60\n",
    "%matplotlib inline\n",
    "import astropy.io.fits as fits\n",
    "import astropy.units as u\n",
    "#import photutils\n",
    "import astropy.constants as c\n",
    "import os\n",
    "#import webbpsf\n",
    "#from webbpsf import wfirst\n",
    "import numpy as np\n",
    "#import poppy.utils\n",
    "#import poppy\n",
    "import numpy as np\n",
    "\n",
    "\n",
    "import glob\n",
    "from scipy.ndimage import rotate\n",
    "from scipy.ndimage import shift\n",
    "\n",
    "import matplotlib.pyplot as plt\n",
    "from matplotlib.colors import LogNorm\n",
    "from astropy.visualization import quantity_support\n",
    "quantity_support()\n",
    "%matplotlib inline\n",
    "import matplotlib as mpl\n",
    "import importlib\n",
    "from scipy.stats import lognorm\n",
    "import matplotlib.pyplot as plt\n",
    "import numpy as np\n",
    "import cmasher\n",
    "#print(webbpsf.__version__)\n",
    "plt.rcParams.update({'image.origin': 'lower',\n",
    "                     'font.size': '12',\n",
    "                     'image.interpolation':\"nearest\",\n",
    "                    'pdf.fonttype':42})\n",
    "import astropy\n",
    "import EXOSIMS,EXOSIMS.MissionSim,os.path\n",
    "\n",
    "\n",
    "print(astropy.__version__)\n",
    "print(mpl.__version__)\n",
    "#print(EXOSIMS.__version__)"
   ]
  },
  {
   "cell_type": "markdown",
   "metadata": {},
   "source": []
  },
  {
   "cell_type": "code",
   "execution_count": 2,
   "metadata": {},
   "outputs": [],
   "source": [
    "#convert HabEx target list to csv list of HIP values\n",
    "import pandas as pd\n",
    "mask=[]\n",
    "HIP=pd.read_csv(\"../HabEx-Master-Target-List-withCGI-Exozodi-Detection_limits_v5_LBTI_included.csv\"\n",
    "            ,delimiter=\",\")[\"HIP\"].values\n",
    "np.savetxt(\"hip.csv\",HIP,fmt='HIP %s',delimiter=\",\")\n",
    "#HIP.sort()\n",
    "np.savetxt(\"WFIRST-CGI-disks-Uno/hip_nums_only.csv\",HIP,fmt='%s '+r'\\\\',delimiter=\" \")\n",
    "\n",
    "VMag=pd.read_csv(\"../HabEx-Master-Target-List-withCGI-Exozodi-Detection_limits_v5_LBTI_included.csv\"\n",
    "            ,delimiter=\",\")[\"Vmag\"].values\n",
    "HabExDF=pd.read_csv(\"../HabEx-Master-Target-List-withCGI-Exozodi-Detection_limits_v5_LBTI_included.csv\"\n",
    "            ,delimiter=\",\")\n",
    "HabExDF=HabExDF.set_index(\"HIP\")"
   ]
  },
  {
   "cell_type": "code",
   "execution_count": 3,
   "metadata": {},
   "outputs": [
    {
     "data": {
      "text/plain": [
       "Star Number                                           6\n",
       "Vmag                                               2.82\n",
       "dist (pc)                                          7.46\n",
       "Type                                               G2IV\n",
       " EEID (mas)                                         256\n",
       "EEID (AU)                                          1.91\n",
       "HZ inner edge (mas)                                 243\n",
       "HZ outer edge (mas)                                 427\n",
       "Snow line (mas)                                     845\n",
       "IWA (AU)                                           1.12\n",
       "L*/Lsun                                           3.645\n",
       "Surface Brigthness Spectral Correction Factor      0.97\n",
       "Exozodi Detection Limit at IWA (in zodi)         518.37\n",
       "Time to SNR (hours)                                 NaN\n",
       "Exozodi Level measured by LBTI at 11 microns        NaN\n",
       "Unnamed: 16                                         NaN\n",
       "Unnamed: 17                                         NaN\n",
       "Unnamed: 18                                         NaN\n",
       "Unnamed: 19                                         NaN\n",
       "Unnamed: 20                                         NaN\n",
       "Name: 2021, dtype: object"
      ]
     },
     "execution_count": 3,
     "metadata": {},
     "output_type": "execute_result"
    }
   ],
   "source": [
    "HabExDF.loc[2021]\n"
   ]
  },
  {
   "cell_type": "code",
   "execution_count": 4,
   "metadata": {},
   "outputs": [],
   "source": [
    "#scriptfile = os.path.join('Bijan-2020-Work/','wfirst_nemati2019_disks.json')\n",
    "#sim = EXOSIMS.MissionSim.MissionSim(scriptfile)\n",
    "#sim\n",
    "# %load sampleScript_coron.json\n"
   ]
  },
  {
   "cell_type": "code",
   "execution_count": 5,
   "metadata": {},
   "outputs": [
    {
     "name": "stdout",
     "output_type": "stream",
     "text": [
      "hip.csv                    known_disks.csv\r\n",
      "hip_nums_only.csv          test_habex.csv\r\n",
      "known_disk_properties.csv\r\n"
     ]
    }
   ],
   "source": [
    "ls *.csv"
   ]
  },
  {
   "cell_type": "code",
   "execution_count": null,
   "metadata": {},
   "outputs": [],
   "source": []
  },
  {
   "cell_type": "markdown",
   "metadata": {},
   "source": [
    "## Setup EXOSIMS System"
   ]
  },
  {
   "cell_type": "raw",
   "metadata": {},
   "source": [
    "          { \"name\": \"muf-imager\",\n",
    "      \"QE\": 0.68,\n",
    "      \"FoV\": 9.5,\n",
    "      \"pixelNumber\": 1024,\n",
    "      \"pixelSize\": 1.3e-5,\n",
    "      \"sread\": 0,\n",
    "      \"idark\": 0.00027,\n",
    "      \"CIC\": 0.01,\n",
    "      \"texp\": 2,\n",
    "      \"ENF\": 1\n",
    "    }"
   ]
  },
  {
   "cell_type": "code",
   "execution_count": 6,
   "metadata": {},
   "outputs": [
    {
     "name": "stdout",
     "output_type": "stream",
     "text": [
      "Overwriting sampleScript_coron.json\n"
     ]
    }
   ],
   "source": [
    "%%writefile sampleScript_coron.json\n",
    "{\n",
    "  \"staticStars\": true,\n",
    "  \"checkKeepoutEnd\": false,\n",
    "  \"missionLife\": 0.1,\n",
    "  \"missionPortion\": 0.5,\n",
    "  \"OBduration\": 50,\n",
    "  \"minComp\": 0,\n",
    "  \"dMagLim\": 30,\n",
    "  \"pupilDiam\": 2.37,\n",
    "    \"ppFact\": 0.25,\n",
    "        \"fillPhotometry\":true,\n",
    "    \"explainFiltering\":true,\n",
    "    \"catalogpath\":\"test_habex.csv\",\n",
    "  \"scienceInstruments\": [\n",
    "    { \"name\": \"imager\",\n",
    "      \"QE\": 0.68,\n",
    "      \"FoV\": 9.5,\n",
    "      \"pixelNumber\": 1024,\n",
    "      \"pixelSize\": 1.3e-5,\n",
    "      \"sread\": 0,\n",
    "      \"idark\": 0.00027,\n",
    "      \"CIC\": 0.01,\n",
    "      \"texp\": 2,\n",
    "      \"ENF\": 1\n",
    "    }\n",
    "  ],\n",
    "  \"starlightSuppressionSystems\": [\n",
    "    { \"name\": \"HLC-565\",\n",
    "      \"lam\": 565,\n",
    "      \"BW\": 0.10,\n",
    "      \"IWA\": 0.15,\n",
    "      \"OWA\": 0.42,\n",
    "      \"occ_trans\": 0.2,\n",
    "      \"core_thruput\": 0.01,\n",
    "      \"core_mean_intensity\":  1.4e-11,\n",
    "      \"core_area\": 0.0022,\n",
    "      \"core_platescale\": 0.30\n",
    "    },\n",
    "     { \"name\": \"HLC-565-Disk\",\n",
    "      \"lam\": 565,\n",
    "      \"BW\": 0.10,\n",
    "      \"IWA\": 0.15,\n",
    "      \"OWA\": 0.42,\n",
    "      \"occ_trans\": 0.23,\n",
    "      \"core_thruput\": 0.12,\n",
    "      \"core_mean_intensity\": 1.4e-11,\n",
    "      \"core_area\": 0.0022,\n",
    "      \"core_platescale\": 0.30,\n",
    "               \"ppFact\": 0.125\n",
    "    },\n",
    "      { \"name\": \"HLC-565-TTR-DISK\",\n",
    "      \"lam\": 565,\n",
    "      \"BW\": 0.10,\n",
    "      \"IWA\": 0.28,\n",
    "      \"OWA\": 0.42,\n",
    "      \"occ_trans\": 0.05,\n",
    "      \"core_thruput\": 0.11,\n",
    "      \"core_mean_intensity\": 0.00000000121000,\n",
    "      \"core_area\": 0.0022,\n",
    "         \"ppFact\": 0.125,\n",
    "      \"core_platescale\": 0.30\n",
    "    },\n",
    "        { \"name\": \"HLC-565-MUF-DISK\",\n",
    "      \"lam\": 565,\n",
    "      \"BW\": 0.10,\n",
    "      \"IWA\": 0.165,\n",
    "      \"OWA\": 0.42,\n",
    "      \"occ_trans\": 0.23,\n",
    "      \"core_thruput\": 0.11,\n",
    "      \"core_mean_intensity\":2.8e-11,\n",
    "      \"core_area\": 0.0022\n",
    "    }\n",
    "  ],\n",
    "  \"observingModes\": [\n",
    "    { \"instName\": \"imager\",\n",
    "      \"systName\": \"HLC-565-Disk\",\n",
    "      \"detectionMode\": true,\n",
    "     \"SNR\":5\n",
    "    }\n",
    "  ],\n",
    "  \"modules\": {\n",
    "    \"PlanetPopulation\": \"KeplerLike1\",\n",
    "    \"StarCatalog\": \"HIPfromSimbad\",\n",
    "    \"OpticalSystem\": \"Nemati\",\n",
    "    \"ZodiacalLight\": \"Stark\",\n",
    "    \"BackgroundSources\": \"GalaxiesFaintStars\",\n",
    "    \"PlanetPhysicalModel\": \"FortneyMarleyCahoyMix1\",\n",
    "    \"Observatory\": \"WFIRSTObservatoryL2\",\n",
    "    \"TimeKeeping\": \" \",\n",
    "    \"PostProcessing\": \" \",\n",
    "    \"Completeness\": \" \",\n",
    "    \"TargetList\": \" \",\n",
    "    \"SimulatedUniverse\": \"KeplerLikeUniverse\",\n",
    "    \"SurveySimulation\": \" \",\n",
    "    \"SurveyEnsemble\": \" \"\n",
    "  }\n",
    "}"
   ]
  },
  {
   "cell_type": "code",
   "execution_count": 7,
   "metadata": {
    "scrolled": false
   },
   "outputs": [
    {
     "name": "stdout",
     "output_type": "stream",
     "text": [
      "Imported SurveySimulation (prototype module) from EXOSIMS.Prototypes.SurveySimulation\n",
      "Numpy random seed is: 122786914\n",
      "Imported KeplerLikeUniverse (specific module) from EXOSIMS.SimulatedUniverse.KeplerLikeUniverse\n",
      "Imported TargetList (prototype module) from EXOSIMS.Prototypes.TargetList\n",
      "Imported HIPfromSimbad (specific module) from EXOSIMS.StarCatalog.HIPfromSimbad\n",
      "['HIP 37279', 'HIP 97649', 'HIP 113368', 'HIP 57632', 'HIP 67927', 'HIP 2021', 'HIP 107556', 'HIP 102422', 'HIP 22449', 'HIP 17378', 'HIP 8102', 'HIP 95501', 'HIP 99240', 'HIP 3821', 'HIP 16537', 'HIP 98036', 'HIP 57757', 'HIP 27072', 'HIP 28103', 'HIP 109176', 'HIP 78072', 'HIP 27321', 'HIP 14632', 'HIP 50954', 'HIP 70497', 'HIP 59199', 'HIP 7513', 'HIP 12777', 'HIP 116771', 'HIP 102485', 'HIP 15510', 'HIP 92043', 'HIP 1599', 'HIP 64394', 'HIP 112447', 'HIP 61317', 'HIP 105858', 'HIP 17651', 'HIP 108870', 'HIP 67153', 'HIP 16852', 'HIP 19849', 'HIP 61174', 'HIP 77257', 'HIP 12843', 'HIP 71284', 'HIP 96100', 'HIP 34834', 'HIP 77760', 'HIP 46509', 'HIP 24813', 'HIP 64924', 'HIP 76829', 'HIP 23693', 'HIP 16245', 'HIP 104214', 'HIP 39903', 'HIP 15457', 'HIP 64408', 'HIP 86486', 'HIP 4151', 'HIP 10644', 'HIP 51459', 'HIP 57443', 'HIP 65721', 'HIP 86736', 'HIP 80686', 'HIP 82860', 'HIP 910', 'HIP 47592', 'HIP 5862', 'HIP 109422', 'HIP 73996', 'HIP 29271', 'HIP 53721', 'HIP 25278', 'HIP 97295', 'HIP 48113', 'HIP 95447', 'HIP 88745', 'HIP 86796', 'HIP 7981', 'HIP 29800', 'HIP 25110', 'HIP 97675', 'HIP 40843', 'HIP 45333', 'HIP 104217', 'HIP 64792', 'HIP 3909', 'HIP 15371', 'HIP 56997', 'HIP 114622', 'HIP 32480', 'HIP 47080', 'HIP 49081', 'HIP 80337', 'HIP 73184', 'HIP 84862', 'HIP 78459', 'HIP 12653', 'HIP 18859', 'HIP 58576', 'HIP 32439', 'HIP 89042', 'HIP 79672', 'HIP 22263', 'HIP 8362', 'HIP 15330', 'HIP 7978', 'HIP 99825', 'HIP 3765', 'HIP 35136', 'HIP 107649', 'HIP 12114', 'HIP 38908', 'HIP 42438', 'HIP 105090', 'HIP 81300', 'HIP 75181', 'HIP 98767', 'HIP 26394', 'HIP 3093', 'HIP 49908', 'HIP 84478', 'HIP 43587', 'HIP 3583', 'HIP 23311', 'HIP 56452', 'HIP 72848', 'HIP 40693', 'HIP 13402', 'HIP 100017', 'HIP 114046', 'HIP 54035', 'HIP 27435', 'HIP 544', 'HIP 113283', 'HIP 26779', 'HIP 1475', 'HIP 68184', 'HIP 32984', 'HIP 88972', 'HIP 10798', 'HIP 86400', 'HIP 41926', 'HIP 57939', 'HIP 85235', 'HIP 42808', 'HIP 25878']\n",
      "Imported Nemati (specific module) from EXOSIMS.OpticalSystem.Nemati\n",
      "Imported Stark (specific module) from EXOSIMS.ZodiacalLight.Stark\n",
      "Imported PostProcessing (prototype module) from EXOSIMS.Prototypes.PostProcessing\n",
      "Imported GalaxiesFaintStars (specific module) from EXOSIMS.BackgroundSources.GalaxiesFaintStars\n",
      "Imported Completeness (prototype module) from EXOSIMS.Prototypes.Completeness\n",
      "Imported KeplerLike1 (specific module) from EXOSIMS.PlanetPopulation.KeplerLike1\n",
      "Imported FortneyMarleyCahoyMix1 (specific module) from EXOSIMS.PlanetP[...]el.FortneyMarleyCahoyMix1\n",
      "150 targets imported from star catalog.\n",
      "149 targets remain after nan filtering.\n",
      "149 targets remain after removing requested targets.\n",
      "Calculating target stellar masses.\n",
      "149 targets remain after binary filter.\n",
      "149 targets remain after IWA filter.\n",
      "149 targets remain after integration time cutoff filter.\n",
      "149 targets remain after completeness filter.\n",
      "Imported WFIRSTObservatoryL2 (specific module) from EXOSIMS.Observatory.WFIRSTObservatoryL2\n",
      "Imported TimeKeeping (prototype module) from EXOSIMS.Prototypes.TimeKeeping\n",
      "OBendTimes is: [36.525] d\n",
      "Limiting delta magnitude for mode syst: HLC-565-Disk inst: imager is 24.515449845125502\n",
      "Loading cached keepout map file from /Users/edouglas/.EXOSIMS/cache/koMap_da43f745971a24b87f3c7be60f944dcd.komap\n",
      "Keepout Map loaded from cache.\n",
      "Loading cached fZ from /Users/edouglas/.EXOSIMS/cache/CompletenessTargetListNematifbc170efeaf49857bf3bdde879a3d964.starkfZ\n",
      "Loading cached fZQuads from /Users/edouglas/.EXOSIMS/cache/CompletenessTargetListNematifbc170efeaf49857bf3bdde879a3d964.fZmin\n",
      "Imported SurveyEnsemble (prototype module) from EXOSIMS.Prototypes.SurveyEnsemble\n"
     ]
    }
   ],
   "source": [
    "scriptfile = os.path.join('sampleScript_coron.json')\n",
    "sim = EXOSIMS.MissionSim.MissionSim(scriptfile)\n",
    "#sim.OpticalSystem?#\n"
   ]
  },
  {
   "cell_type": "code",
   "execution_count": 8,
   "metadata": {},
   "outputs": [
    {
     "name": "stdout",
     "output_type": "stream",
     "text": [
      "mode should be HLC disk mode, and it is: HLC-565-Disk\n"
     ]
    }
   ],
   "source": [
    "OpSim=sim.OpticalSystem\n",
    "Obs=sim.Observatory\n",
    "TL=sim.TargetList\n",
    "mode=sim.OpticalSystem.observingModes[0]\n",
    "\n",
    "sim.TargetList.fillPhotometryVals()\n",
    "\n",
    "print(\"mode should be HLC disk mode, and it is: \"+mode[\"systName\"])"
   ]
  },
  {
   "cell_type": "code",
   "execution_count": 9,
   "metadata": {
    "scrolled": false
   },
   "outputs": [
    {
     "data": {
      "text/plain": [
       "0.25"
      ]
     },
     "execution_count": 9,
     "metadata": {},
     "output_type": "execute_result"
    }
   ],
   "source": [
    "#check post-processing gain\n",
    "#assert sim.PostProcessing.ppFact(0) ==1/8\n",
    "f_pp=sim.PostProcessing.ppFact(0)\n",
    "f_pp"
   ]
  },
  {
   "cell_type": "markdown",
   "metadata": {},
   "source": [
    "Check what stars EXOSIMS dropped:\n",
    "\n",
    "HIP 107556 is a binary (http://simbad.u-strasbg.fr/simbad/sim-id?Ident=hip%20107556&submit=submit%20id)"
   ]
  },
  {
   "cell_type": "code",
   "execution_count": 10,
   "metadata": {},
   "outputs": [
    {
     "name": "stdout",
     "output_type": "stream",
     "text": [
      "107556\n"
     ]
    },
    {
     "name": "stderr",
     "output_type": "stream",
     "text": [
      "<ipython-input-10-678540c8bea6>:4: DeprecationWarning: The truth value of an empty array is ambiguous. Returning False, but in future this will result in an error. Use `array.size > 0` to check that an array is not empty.\n",
      "  if np.where(TLHIP==name)[0] >=0:\n"
     ]
    },
    {
     "data": {
      "text/plain": [
       "(149, 20)"
      ]
     },
     "execution_count": 10,
     "metadata": {},
     "output_type": "execute_result"
    }
   ],
   "source": [
    "TLHIP=[int(name[4:]) for name in TL.Name]\n",
    "exclude=[]\n",
    "for name in HIP:\n",
    "    if np.where(TLHIP==name)[0] >=0:\n",
    "        continue\n",
    "    else:\n",
    "        print(name)\n",
    "        HIP=HIP[np.where(HIP!=name)]\n",
    "        #VMag=VMag[np.where(HIP!=name)]\n",
    "#VMag.sort()\n",
    "HabExDF_NoBinary=HabExDF.drop(index= 107556)\n",
    "HabExDF_NoBinary.shape\n",
    "\n"
   ]
  },
  {
   "cell_type": "code",
   "execution_count": 11,
   "metadata": {},
   "outputs": [
    {
     "data": {
      "text/plain": [
       "(149, 20)"
      ]
     },
     "execution_count": 11,
     "metadata": {},
     "output_type": "execute_result"
    }
   ],
   "source": [
    "#drop the binaries\n",
    "HabExDF_NoBinary=HabExDF.drop(index= 107556)\n",
    "HabExDF_NoBinary.shape"
   ]
  },
  {
   "cell_type": "code",
   "execution_count": 12,
   "metadata": {},
   "outputs": [],
   "source": [
    "#define the reference star from Nemati spreadsheet\n"
   ]
  },
  {
   "cell_type": "markdown",
   "metadata": {},
   "source": [
    "## Find Habitable Zone Boundaries"
   ]
  },
  {
   "cell_type": "code",
   "execution_count": 13,
   "metadata": {},
   "outputs": [],
   "source": [
    "allstars=np.arange(sim.TargetList.nStars)\n",
    "allstars.size\n",
    "\n",
    "\n",
    "EEIDs=sim.TargetList.calc_EEID(allstars,arcsec=True)#\n",
    "\n",
    "EEIDs_AU=sim.TargetList.calc_EEID(allstars,arcsec=False)#\n",
    "\n",
    "innerHZs=sim.TargetList.calc_HZ_inner(allstars,arcsec=True)#\n",
    "\n",
    "outerHZs=sim.TargetList.calc_HZ_outer(allstars,arcsec=True)#\n",
    "\n",
    "innerHZ_AU=sim.TargetList.calc_HZ_inner(allstars,arcsec=False)\n",
    "\n",
    "outerHZ_AU=sim.TargetList.calc_HZ_outer(allstars,arcsec=False)\n",
    "\n",
    "\n",
    "IWA_AU=sim.TargetList.calc_IWA_AU(allstars)\n",
    "\n",
    "\n",
    "#sim.TargetList.calc_HZ_inner?"
   ]
  },
  {
   "cell_type": "markdown",
   "metadata": {},
   "source": [
    "### Number of observable HZ?"
   ]
  },
  {
   "cell_type": "code",
   "execution_count": 14,
   "metadata": {},
   "outputs": [
    {
     "data": {
      "text/plain": [
       "74"
      ]
     },
     "execution_count": 14,
     "metadata": {},
     "output_type": "execute_result"
    }
   ],
   "source": [
    "outerHZs[outerHZ_AU>IWA_AU].size"
   ]
  },
  {
   "cell_type": "code",
   "execution_count": 15,
   "metadata": {},
   "outputs": [
    {
     "data": {
      "image/png": "[encoded data removed]",
      "text/plain": [
       "<Figure size 504x288 with 1 Axes>"
      ]
     },
     "metadata": {
      "needs_background": "light"
     },
     "output_type": "display_data"
    }
   ],
   "source": [
    "\n",
    "plt.figure(figsize=[7,4])\n",
    "\n",
    "ax=plt.subplot(111)\n",
    "\n",
    "\n",
    "inner_hist = plt.plot(np.sort(innerHZs)[::-1],np.arange(innerHZs.size),\n",
    "                      #histtype=\"step\",cumulative=-1,bins=np.arange(0.0,.5,.01),\n",
    "                      label=\"inner edge\")\n",
    "\n",
    "inner_hist = plt.plot(np.sort(EEIDs)[::-1],np.arange(EEIDs.size),\n",
    "                      #histtype=\"step\",cumulative=-1,bins=np.arange(0.0,.5,.01),\n",
    "                      linewidth=3,\n",
    "                      label=\"EEID\")\n",
    "ax.plot(np.sort(outerHZs)[::-1],np.arange(outerHZs.size),\n",
    "        #histtype=\"stepfilled\",bins=inner_hist[1],alpha=.5,cumulative=-1,\n",
    "                              linewidth=5,\n",
    "        label=\"outer edge\")\n",
    "plt.fill_between([0,.15],[ax.get_ylim()[1],ax.get_ylim()[1]],alpha=0.25,color=\"gray\")\n",
    "plt.text(.2,60,s='Accessible targets \\n in CGI dark hole',fontsize=12)\n",
    "plt.text(.01,5,s='Behind mask',fontsize=12)\n",
    "\n",
    "\n",
    "ax.set_ylabel(\"cumulative number of habitable zones\")\n",
    "ax.set_xlabel(\"IWA [arcsec]\")\n",
    "ax.set_xticks([0,.15,.2,.3,.4])\n",
    "plt.xlim([.0,.5])\n",
    "plt.legend()\n",
    "#plt.grid(axis=\"x\")iwa\n",
    "plt.title(\"HabEx target stars\")#sim.StarCatalog)#+\", habitable zones after Kaltenegger et al 2018\")\n",
    "#plt.yscale('symlog', linthreshy=200)\n",
    "#ax.set_yticks([0,25,50])#$,100,125,150])\n",
    "#ticks=[0,25,50,75]#,100,100,125,150,175,200,500,1000]\n",
    "#ax.set_yticks(ticks)\n",
    "#ax.set_yticklabels([0,25,50,75,])#100,100,125,150,175,200,500,1000])\n",
    "plt.savefig('WFIRST-CGI-disks-Uno/n_hz.pdf',bbox_inches=\"tight\")"
   ]
  },
  {
   "cell_type": "code",
   "execution_count": 16,
   "metadata": {},
   "outputs": [],
   "source": [
    "starmag=sim.TargetList.Vmag\n",
    "resel_area=0.05**2 #as^2/resel"
   ]
  },
  {
   "cell_type": "markdown",
   "metadata": {},
   "source": [
    "\n",
    "## Cumulative Exposure Time Figure\n"
   ]
  },
  {
   "cell_type": "code",
   "execution_count": 17,
   "metadata": {},
   "outputs": [
    {
     "data": {
      "text/latex": [
       "$[0.5271296,~0.76942806,~1.1555351,~\\dots,~1.9203687,~1.6711229,~0.84856024] \\; \\mathrm{AU}$"
      ],
      "text/plain": [
       "<Quantity [0.5271296 , 0.76942806, 1.15553505, 1.64998341, 1.7094017 ,\n",
       "           1.11881847, 2.13980026, 1.21026306, 1.35611601, 0.54752519,\n",
       "           2.32883077, 0.91625433, 0.89296346, 0.48240817, 2.05479455,\n",
       "           1.63934426, 1.33904657, 2.23181076, 1.75891185, 1.6880486 ,\n",
       "           2.91601868, 1.581111  , 2.43348484, 2.17959895, 2.24047809,\n",
       "           2.02374516, 1.66907744, 2.05704889, 2.20167332, 0.90650876,\n",
       "           2.88129072, 1.28799591, 1.36936283, 2.44458933, 1.2659297 ,\n",
       "           1.38927484, 2.64410362, 0.54336015, 2.91036072, 2.09438696,\n",
       "           0.74768221, 2.74223042, 1.81862268, 2.13310575, 2.37492085,\n",
       "           0.86320996, 3.2140563 , 2.3839797 , 2.60010395, 1.89465709,\n",
       "           1.28325777, 2.61551886, 1.7468266 , 3.25238514, 0.52297608,\n",
       "           2.99700308, 1.37098975, 3.10045481, 3.21750326, 2.81162138,\n",
       "           1.61759949, 1.91693287, 1.38312593, 2.69784193, 2.64783754,\n",
       "           1.8175209 , 2.2886786 , 2.81214838, 2.25191417, 2.2672308 ,\n",
       "           2.74172916, 2.93312473, 1.52967582, 2.1094079 , 2.15796275,\n",
       "           3.18471336, 2.75532703, 2.27652154, 2.34631634, 2.32666354,\n",
       "           1.12985845, 2.88739157, 3.13283215, 2.87852612, 2.74072723,\n",
       "           2.9354207 , 0.52297608, 2.63388948, 2.36294904, 1.80483699,\n",
       "           1.44175315, 0.98193247, 2.50752268, 1.7053206 , 2.25699677,\n",
       "           1.91668797, 0.8887835 , 2.14899702, 2.58531532, 2.57510719,\n",
       "           2.82485876, 1.91448627, 2.68096504, 2.64177532, 2.08507075,\n",
       "           1.991503  , 1.51011772, 1.80115271, 2.61506281, 1.33666005,\n",
       "           1.11823468, 2.53378372, 2.39923224, 1.07704453, 2.43072453,\n",
       "           2.15331602, 0.59192612, 1.46270113, 2.22189302, 2.37868695,\n",
       "           2.74725294, 1.6589251 , 0.73095853, 0.89557586, 1.85116625,\n",
       "           2.2737608 , 1.30616512, 1.43389735, 1.72651935, 1.87406301,\n",
       "           1.55279503, 2.63527765, 0.49138438, 0.38202932, 2.27652154,\n",
       "           2.05058098, 1.14137878, 1.84162073, 0.53809726, 1.50966182,\n",
       "           1.30650644, 1.65362148, 1.90041804, 1.64998341, 1.83127813,\n",
       "           1.36376038, 1.92036867, 1.67112293, 0.84856024] AU>"
      ]
     },
     "execution_count": 17,
     "metadata": {},
     "output_type": "execute_result"
    }
   ],
   "source": [
    "IWA_AU"
   ]
  },
  {
   "cell_type": "code",
   "execution_count": 18,
   "metadata": {},
   "outputs": [
    {
     "name": "stderr",
     "output_type": "stream",
     "text": [
      "/Users/edouglas/anaconda3/envs/python39/lib/python3.9/site-packages/astropy/units/quantity.py:1039: FutureWarning: Using a non-tuple sequence for multidimensional indexing is deprecated; use `arr[tuple(seq)]` instead of `arr[seq]`. In the future this will be interpreted as an array index, `arr[np.array(seq)]`, which will result either in an error or a different result.\n",
      "  out = super().__getitem__(key)\n"
     ]
    },
    {
     "data": {
      "image/png": "[encoded data removed]",
      "text/plain": [
       "<Figure size 504x288 with 1 Axes>"
      ]
     },
     "metadata": {
      "needs_background": "light"
     },
     "output_type": "display_data"
    },
    {
     "data": {
      "image/png": "[encoded data removed]",
      "text/plain": [
       "<Figure size 504x288 with 2 Axes>"
      ]
     },
     "metadata": {
      "needs_background": "light"
     },
     "output_type": "display_data"
    }
   ],
   "source": [
    "plt.figure(figsize=[7,4])\n",
    "from importlib import reload\n",
    "\n",
    "\n",
    "#drop stars where the IWA is larger then the HZ:\n",
    "IWA_AU[IWA_AU>outerHZ_AU]=np.nan\n",
    "\n",
    "#set to the inner edge of the HZ if the IWA is smaller\n",
    "\n",
    "IWA_AU[IWA_AU<innerHZ_AU]=innerHZ_AU[IWA_AU<innerHZ_AU]\n",
    "plt.subplot(131)\n",
    "plt.hist(outerHZ_AU,alpha=.4,label='outer HZ edge',bins=np.arange(0,10,.5))\n",
    "plt.hist(innerHZ_AU,alpha=.4,label='inner HZ edge',bins=np.arange(0,10,.5))\n",
    "plt.hist(IWA_AU,alpha=.4,label=\"IWA, if inside HZ\",bins=np.arange(0,10,.5),histtype=\"step\",linewidth=3,\n",
    "         color=\"black\")\n",
    "plt.xlabel(\"au\")\n",
    "plt.ylabel(\"n systems\")\n",
    "plt.legend()\n",
    "plt.figure(figsize=[7,4])\n",
    "plt.subplot(121)\n",
    "plt.hist(sim.TargetList.dist,alpha=.4,label='HabEx Targets')#,bins=np.arange(0,10,.42))\n",
    "plt.hist(sim.TargetList.dist[[IWA_AU>0]],alpha=.4,label='Visible HZ',\n",
    "         histtype=\"step\",linewidth=3,         color=\"black\")\n",
    "#,bins=np.arange(0,10,.42))\n",
    "\n",
    "#lt.hist(innerHZ_AU,alpha=.4,label='inner HZ edge',bins=np.arange(0,10,.42))\n",
    "#plt.hist(IWA_AU,alpha=.4,label=\"IWA, if inside HZ\",bins=np.arange(0,10,.42),histtype=\"step\",linewidth=3,\n",
    "#         color=\"black\")\n",
    "plt.xlabel(\"parsecs\")\n",
    "plt.ylabel(\"n systems\")\n",
    "#plt.legend()\n",
    "\n",
    "\n",
    "ax=plt.subplot(122)\n",
    "#plt.hist(np.float_(sim.TargetList.specliste[:,1].flatten()),alpha=.4,label='all systems')#,bins=np.arange(0,10,.42))\n",
    "#plt.hist(np.float_(sim.TargetList.specliste[:,1].flatten())[IWA_AU>0],alpha=.4,label='visible',\n",
    "#         histtype=\"step\",linewidth=3,         color=\"black\")\n",
    "#np.float_(TL.specliste[:,1].flatten())[IWA_AU>0]\n",
    "specs=sim.TargetList.Spec.copy()\n",
    "specs.sort()\n",
    "sp_short=np.array([sp[0:2] for sp in specs])\n",
    "sp_short[IWA_AU>0]\n",
    "\n",
    "hist=plt.hist(sp_short,alpha=.4,label='HabEx Targets', bins=np.unique(sp_short))\n",
    "plt.hist(sp_short[IWA_AU>0],alpha=.4,label='Visible HZ',histtype=\"step\",linewidth=3, bins=np.unique(sp_short),\n",
    "         color=\"black\")\n",
    "\n",
    "\n",
    "# get_xticklabels() actually gets you an iterable, so you need to rotate each label\n",
    "\n",
    "\n",
    "for i,tick in enumerate(ax.get_xticklabels()):\n",
    "    #i=i+1\n",
    "    if i % 2:\n",
    "        tick.set_visible(False)\n",
    "        #tickm.set_visible(False)\n",
    "    tick.set_rotation(90)\n",
    "\n",
    "\n",
    "#,bins=np.arange(0,10,.42))\n",
    "\n",
    "#lt.hist(innerHZ_AU,alpha=.4,label='inner HZ edge',bins=np.arange(0,10,.42))\n",
    "#plt.hist(IWA_AU,alpha=.4,label=\"IWA, if inside HZ\",bins=np.arange(0,10,.42),histtype=\"step\",linewidth=3,\n",
    "#         color=\"black\")\n",
    "\n",
    "plt.ylabel(\"n systems\")\n",
    "plt.legend()\n",
    "plt.tight_layout()\n",
    "\n",
    "plt.savefig(\"WFIRST-CGI-disks-Uno/visible\"+mode[\"systName\"]+\".pdf\")"
   ]
  },
  {
   "cell_type": "code",
   "execution_count": 19,
   "metadata": {},
   "outputs": [
    {
     "data": {
      "text/plain": [
       "((array([ 1.,  1.,  1.,  1.,  2.,  3.,  4.,  2., 10.,  7.,  8.,  8., 16.,\n",
       "         14.,  3.,  6.,  6.,  1.,  2.,  2.,  3.,  9., 10.,  6.,  4.,  7.,\n",
       "          2.,  3.,  1.,  1.,  5.]),\n",
       "  array([ 0.,  1.,  2.,  3.,  4.,  5.,  6.,  7.,  8.,  9., 10., 11., 12.,\n",
       "         13., 14., 15., 16., 17., 18., 19., 20., 21., 22., 23., 24., 25.,\n",
       "         26., 27., 28., 29., 30., 31.]),\n",
       "  <BarContainer object of 31 artists>),\n",
       " array(['A3', 'A4', 'A6', 'A7', 'F1', 'F2', 'F3', 'F4', 'F5', 'F6', 'F7',\n",
       "        'F8', 'F9', 'G0', 'G1', 'G2', 'G3', 'G4', 'G5', 'G6', 'G7', 'G8',\n",
       "        'K0', 'K1', 'K2', 'K3', 'K4', 'K5', 'K6', 'K7', 'M1', 'M2'],\n",
       "       dtype='<U2'))"
      ]
     },
     "execution_count": 19,
     "metadata": {},
     "output_type": "execute_result"
    },
    {
     "data": {
      "image/png": "[encoded data removed]",
      "text/plain": [
       "<Figure size 432x288 with 1 Axes>"
      ]
     },
     "metadata": {
      "needs_background": "light"
     },
     "output_type": "display_data"
    }
   ],
   "source": [
    "bins=np.unique(sp_short)\n",
    "\n",
    "hist=plt.hist(sp_short,alpha=.4,label='HabEx Targets', bins=np.unique(sp_short))\n",
    "plt.hist(sp_short[IWA_AU>0],alpha=.4,label='Visible HZ',histtype=\"step\",linewidth=3, bins=np.unique(sp_short),\n",
    "         color=\"black\")\n",
    "\n",
    "\n",
    "\n",
    "hist,bins"
   ]
  },
  {
   "cell_type": "code",
   "execution_count": 20,
   "metadata": {},
   "outputs": [
    {
     "name": "stdout",
     "output_type": "stream",
     "text": [
      "{'O': 0, 'B': 1, 'A': 2, 'F': 3, 'G': 4, 'K': 5, 'M': 6}\n"
     ]
    },
    {
     "data": {
      "image/png": "[encoded data removed]",
      "text/plain": [
       "<Figure size 432x288 with 1 Axes>"
      ]
     },
     "metadata": {
      "needs_background": "light"
     },
     "output_type": "display_data"
    }
   ],
   "source": [
    "print(TL.specdict)\n",
    "#np.float_(TL.specliste[:,1].flatten())[IWA_AU>0]\n",
    "plt.figure(figsize=[6,4])\n",
    "ax=plt.subplot(111)\n",
    "specs=sim.TargetList.Spec.copy()\n",
    "specs.sort()\n",
    "\n",
    "\n",
    "hist=plt.hist(sp_short)\n",
    "plt.hist(sp_short[IWA_AU>0],alpha=.4,label='visible',\n",
    "         histtype=\"step\",linewidth=3,         color=\"black\")\n",
    "\n",
    "\n",
    "# get_xticklabels() actually gets you an iterable, so you need to rotate each label\n",
    "i=0\n",
    "for tick in ax.get_xticklabels():\n",
    "    i=i+1\n",
    "    if i % 4:\n",
    "        tick.set_visible(False)\n",
    "    tick.set_rotation(90)\n"
   ]
  },
  {
   "cell_type": "code",
   "execution_count": 21,
   "metadata": {},
   "outputs": [
    {
     "data": {
      "text/latex": [
       "$0.15 \\; \\mathrm{{}^{\\prime\\prime}}$"
      ],
      "text/plain": [
       "<Quantity 0.15 arcsec>"
      ]
     },
     "execution_count": 21,
     "metadata": {},
     "output_type": "execute_result"
    }
   ],
   "source": [
    "sim.OpticalSystem.IWA#IWA.to(u.arcsec).value"
   ]
  },
  {
   "cell_type": "code",
   "execution_count": 22,
   "metadata": {},
   "outputs": [
    {
     "data": {
      "text/latex": [
       "$13.602647 \\; \\mathrm{pc}$"
      ],
      "text/plain": [
       "<Quantity 13.60264683 pc>"
      ]
     },
     "execution_count": 22,
     "metadata": {},
     "output_type": "execute_result"
    }
   ],
   "source": [
    "#find median distance\n",
    "np.median(sim.TargetList.dist[IWA_AU>0])\n"
   ]
  },
  {
   "cell_type": "code",
   "execution_count": null,
   "metadata": {},
   "outputs": [],
   "source": []
  },
  {
   "cell_type": "code",
   "execution_count": 23,
   "metadata": {},
   "outputs": [
    {
     "data": {
      "text/plain": [
       "Text(0, 0.5, 'EEID (AU)')"
      ]
     },
     "execution_count": 23,
     "metadata": {},
     "output_type": "execute_result"
    },
    {
     "data": {
      "image/png": "[encoded data removed]",
      "text/plain": [
       "<Figure size 720x288 with 2 Axes>"
      ]
     },
     "metadata": {
      "needs_background": "light"
     },
     "output_type": "display_data"
    }
   ],
   "source": [
    "plt.figure(figsize=[10,4])\n",
    "plt.subplot(121)\n",
    "plt.plot(TL.dist[IWA_AU>0],TL.MV[IWA_AU>0],\".\",markersize=20,label=\"Visible HZ\")\n",
    "plt.plot(TL.dist,TL.MV,\".\",label=\"all HabEx targets\")\n",
    "plt.ylabel(\"M\")\n",
    "plt.plot([0,22],[4.830,4.83],label=r\"M_\\sun\")\n",
    "#plt.title(np.mean(TL.MV[IWA_AU>0]))\n",
    "plt.ylabel(\"absolute magnitude\")\n",
    "#plt.plot(TL.dist,4.83+np.log10(TL.dist.value/10))\n",
    "plt.legend()\n",
    "plt.subplot(122)\n",
    "\n",
    "scatter=plt.scatter(TL.dist.value[IWA_AU>0],\n",
    "                    sim.TargetList.calc_EEID(allstars,arcsec=False)[IWA_AU>0],\n",
    "                   #c=TL.stellarTeff(allstars).value[IWA_AU>0],#TL.stellarTeff(allstars).value,\n",
    "                   s=60,#alpha=.8,#,1000/10**(TL.Vmag*.4),#,alpha=.5\n",
    "                   cmap=\"viridis\",\n",
    "                label=\"Visible HZ\"\n",
    "                  #)\n",
    "                   )\n",
    "\n",
    "scatter=plt.scatter(TL.dist.value,\n",
    "                    sim.TargetList.calc_EEID(allstars,arcsec=False).value,\n",
    "                   #c=TL.stellarTeff(allstars).value[IWA_AU>0],#TL.stellarTeff(allstars).value,\n",
    "                   s=10,#,alpha=.8,#,1000/10**(TL.Vmag*.4),#,alpha=.5\n",
    "                   color=\"orange\",\n",
    "                    label=\"all HabEx targets\"\n",
    "                  #)\n",
    "                  )\n",
    "plt.legend()\n",
    "\n",
    "#plt.ylabel(r\"$r_s/r_{ez}$\")\n",
    "#plt.yscale(\"log\")\n",
    "plt.plot([0,21],[0,3],label=\"IWA\")\n",
    "plt.legend()\n",
    "\n",
    "\n",
    "plt.xlabel(\"pc\")\n",
    "plt.ylabel(\"EEID (AU)\")\n",
    "#plt.savefig(\"WFIRST-CGI-disks-Uno/eeid.png\")"
   ]
  },
  {
   "cell_type": "code",
   "execution_count": null,
   "metadata": {},
   "outputs": [],
   "source": []
  },
  {
   "cell_type": "code",
   "execution_count": null,
   "metadata": {},
   "outputs": [],
   "source": []
  },
  {
   "cell_type": "code",
   "execution_count": null,
   "metadata": {},
   "outputs": [],
   "source": []
  },
  {
   "cell_type": "code",
   "execution_count": null,
   "metadata": {},
   "outputs": [],
   "source": []
  },
  {
   "cell_type": "code",
   "execution_count": 24,
   "metadata": {},
   "outputs": [],
   "source": [
    "#check exozodi surface brightness in magnitudes\n",
    "assert TL.ZodiacalLight.magEZ ==22"
   ]
  },
  {
   "cell_type": "code",
   "execution_count": 25,
   "metadata": {},
   "outputs": [
    {
     "name": "stdout",
     "output_type": "stream",
     "text": [
      "1.0098951331240722e-09 1 / arcsec2 149\n",
      "1.0098951331240722e-09 1 / arcsec2 149\n"
     ]
    }
   ],
   "source": [
    "\n",
    "alphaZ=2.34\n",
    "#alphaZ=1\n",
    "fEZ_inner = TL.ZodiacalLight.fEZ(TL.MV,90*u.deg*np.ones(allstars.size),innerHZ_AU,alpha=alphaZ,fbeta=1)\n",
    "fEZ_EEID= TL.ZodiacalLight.fEZ(TL.MV,90*u.deg*np.ones(allstars.size),EEIDs_AU,alpha=alphaZ,fbeta=1)\n",
    "fEZ_outerHZ = TL.ZodiacalLight.fEZ(TL.MV,90*u.deg*np.ones(allstars.size),outerHZ_AU,alpha=alphaZ,fbeta=1)\n",
    "fEZ_IWA =   TL.ZodiacalLight.fEZ(TL.MV,90*u.deg*np.ones(allstars.size),IWA_AU,alpha=alphaZ,fbeta=1)\n",
    "fEZ_outer = TL.ZodiacalLight.fEZ(TL.MV,90*u.deg*np.ones(allstars.size),IWA_AU,alpha=alphaZ,fbeta=1)\n",
    "\n",
    "\n",
    "\n",
    "\n",
    "\n",
    "\n",
    "#fEZ_innerFlat = TL.ZodiacalLight.fEZ(TL.Vmag,60*u.deg*np.ones(allstars.size),innerHZ_AU,alpha=1,fbeta=1)\n",
    "#fEZ_outerFlat = TL.ZodiacalLight.fEZ(TL.Vmag,60*u.deg*np.ones(allstars.size),outerHZ_AU,alpha=1,fbeta=1)\n",
    "print(np.nanmean(fEZ_outer),fEZ_outer.size)\n",
    "print(np.nanmean(fEZ_IWA),fEZ_outer.size)"
   ]
  },
  {
   "cell_type": "code",
   "execution_count": 26,
   "metadata": {},
   "outputs": [
    {
     "name": "stderr",
     "output_type": "stream",
     "text": [
      "<ipython-input-26-261989c6ddef>:41: MatplotlibDeprecationWarning: Adding an axes using the same arguments as a previous axes currently reuses the earlier instance.  In a future version, a new instance will always be created and returned.  Meanwhile, this warning can be suppressed, and the future behavior ensured, by passing a unique label to each axes instance.\n",
      "  ax2=plt.subplot(111)\n"
     ]
    },
    {
     "data": {
      "text/plain": [
       "[Text(0, 19.0, ''),\n",
       " Text(0, 20.0, ''),\n",
       " Text(0, 21.0, ''),\n",
       " Text(0, 22.0, ''),\n",
       " Text(0, 23.0, ''),\n",
       " Text(0, 24.0, '')]"
      ]
     },
     "execution_count": 26,
     "metadata": {},
     "output_type": "execute_result"
    },
    {
     "data": {
      "image/png": "[encoded data removed]",
      "text/plain": [
       "<Figure size 432x288 with 2 Axes>"
      ]
     },
     "metadata": {
      "needs_background": "light"
     },
     "output_type": "display_data"
    },
    {
     "data": {
      "image/png": "[encoded data removed]",
      "text/plain": [
       "<Figure size 432x288 with 1 Axes>"
      ]
     },
     "metadata": {
      "needs_background": "light"
     },
     "output_type": "display_data"
    }
   ],
   "source": [
    "ax1=plt.subplot(111)\n",
    "import cmasher\n",
    "\n",
    "\n",
    "\n",
    "x_AU_range=np.arange(innerHZ_AU.min().value,np.nanmax(IWA_AU).value,np.nanmax(IWA_AU).value/allstars.size)*u.AU\n",
    "\n",
    "#x_AU_pcrange=np.arange(1/TL.dist.min().value,np.nanmax(1/TL.dist).value,np.nanmax(1/TL.dist).value/allstars.size)*u.AU\n",
    "\n",
    "\n",
    "y_fEZ=TL.ZodiacalLight.fEZ(TL.MV.min(),90*u.deg*np.ones(allstars.size),x_AU_range,alpha=alphaZ,fbeta=1,tau=1)\n",
    "\n",
    "y_fEZmax=TL.ZodiacalLight.fEZ(TL.MV.max(),90*u.deg*np.ones(allstars.size),x_AU_range,alpha=alphaZ,fbeta=1,tau=1)\n",
    "\n",
    "y_fEZ_M5=TL.ZodiacalLight.fEZ(4.84,90*u.deg*np.ones(allstars.size),x_AU_range,alpha=alphaZ,fbeta=1,tau=1)\n",
    "\n",
    "#plt.plot(x_AU_range,-2.5*np.log10(y_fEZ.value))\n",
    "#plt.plot(x_AU_range,-2.5*np.log10(y_fEZmax.value))\n",
    "\n",
    "\n",
    "plt.plot(x_AU_range,-2.5*np.log10(y_fEZ_M5.value),linewidth=5,color=\"orange\")\n",
    "SB_IWA=-2.5*np.log10(fEZ_IWA.value)\n",
    "plt.scatter(IWA_AU,SB_IWA,c=TL.stellarTeff(allstars),\n",
    "            cmap=plt.get_cmap('cmr.rainforest_r') \n",
    "           )\n",
    "lim1=plt.ylim([19,24])\n",
    "plt.ylabel(r\"Exozodi at IWA [m$_{\\rm v}$/as$^2$]\")\n",
    "plt.text(.5,19.7, \"Sunlike Zodi\",color=\"orange\")\n",
    "\n",
    "ax1.set_xlabel(\"IWA separation [AU]\")\n",
    "plt.colorbar(label=\"Stellar Temp [K]\")\n",
    "\n",
    "plt.savefig(\"WFIRST-CGI-disks-Uno/AU_PC_temp.pdf\",bbox_inches=\"tight\")\n",
    "\n",
    "\n",
    "\n",
    "plt.figure()\n",
    "plt.scatter(TL.dist,-2.5*np.log10(fEZ_IWA.value),c=TL.stellarTeff(allstars),\n",
    "            cmap=plt.get_cmap('cmr.rainforest_r') \n",
    "           )\n",
    "ax2=plt.subplot(111)\n",
    "\n",
    "\n",
    "#plt.plot((1/x_AU_range.value)[::-1],-2.5*np.log10(y_fEZ_M5.value),linewidth=5)\n",
    "\n",
    "\n",
    "ax2.set_xlabel(\"Host distance [pc]\")\n",
    "\n",
    "\n",
    "#plt.colorbar(label=\"Stellar Temp [K]\")\n",
    "plt.ylim(lim1)\n",
    "ax2.set_yticklabels(\"\")"
   ]
  },
  {
   "cell_type": "code",
   "execution_count": null,
   "metadata": {},
   "outputs": [],
   "source": []
  },
  {
   "cell_type": "code",
   "execution_count": 27,
   "metadata": {},
   "outputs": [
    {
     "name": "stdout",
     "output_type": "stream",
     "text": [
      "Loading cached fZmax from /Users/edouglas/.EXOSIMS/cache/CompletenessTargetListNematifbc170efeaf49857bf3bdde879a3d964.fZmax\n"
     ]
    }
   ],
   "source": [
    "#use conservative max local zodi so we don't have to worry about observation timing:\n",
    "fZMax = TL.ZodiacalLight.calcfZmax( allstars, \n",
    "                                Obs, \n",
    "                                TL,\n",
    "                                sim.TimeKeeping,\n",
    "                                mode, \n",
    "                                sim.SurveySimulation.cachefname)\n"
   ]
  },
  {
   "cell_type": "code",
   "execution_count": null,
   "metadata": {},
   "outputs": [],
   "source": []
  },
  {
   "cell_type": "code",
   "execution_count": null,
   "metadata": {},
   "outputs": [],
   "source": [
    "\n",
    "\n",
    "\n"
   ]
  },
  {
   "cell_type": "markdown",
   "metadata": {},
   "source": [
    "## Calculate detection limits given lognorm distribution from Ertel et al papers"
   ]
  },
  {
   "attachments": {
    "image.png": {
     "image/png": "[encoded data removed]"
    }
   },
   "cell_type": "markdown",
   "metadata": {},
   "source": [
    "![image.png](attachment:image.png)\n",
    "Ertel et al. - 2018 - The HOSTS survey - Exozodiacal dust measurements f.pdf"
   ]
  },
  {
   "cell_type": "code",
   "execution_count": 28,
   "metadata": {},
   "outputs": [],
   "source": [
    "#s = 5 \n",
    "m=13 #=exp(mu)=median of the fitted distribution (n_zodi...)\n",
    "\n",
    "#m=np.log(m)\n",
    "#\n",
    "#loc=-10\n",
    "s=1.5#|.5\n",
    "\n",
    "mean, var, skew, kurt = lognorm.stats(s,scale=m, moments='mvsk')\n"
   ]
  },
  {
   "cell_type": "code",
   "execution_count": null,
   "metadata": {},
   "outputs": [],
   "source": []
  },
  {
   "cell_type": "code",
   "execution_count": 29,
   "metadata": {},
   "outputs": [
    {
     "data": {
      "text/plain": [
       "'\\nax = plt.subplot(121)\\nrv = lognorm(s=s,scale=m) #lognorm.pdf(x, s, loc, scale) \\n\\nx = np.linspace(lognorm.ppf(0.05, s,\\n                            #loc=loc,\\n                           scale=m\\n                           ),\\n                lognorm.ppf(0.95, s,\\n                            #loc=loc,\\n                           scale=m\\n                           ), 100)\\n\\n'"
      ]
     },
     "execution_count": 29,
     "metadata": {},
     "output_type": "execute_result"
    }
   ],
   "source": [
    "'''\n",
    "ax = plt.subplot(121)\n",
    "rv = lognorm(s=s,scale=m) #lognorm.pdf(x, s, loc, scale) \n",
    "\n",
    "x = np.linspace(lognorm.ppf(0.05, s,\n",
    "                            #loc=loc,\n",
    "                           scale=m\n",
    "                           ),\n",
    "                lognorm.ppf(0.95, s,\n",
    "                            #loc=loc,\n",
    "                           scale=m\n",
    "                           ), 100)\n",
    "\n",
    "'''"
   ]
  },
  {
   "cell_type": "code",
   "execution_count": 30,
   "metadata": {},
   "outputs": [
    {
     "data": {
      "text/latex": [
       "$[1.007827,~1.3930547,~1.1282927,~\\dots,~0.09108497,~0.075838385,~0.049920045] \\; \\mathrm{{}^{\\prime\\prime}}$"
      ],
      "text/plain": [
       "<Quantity [1.00782705, 1.39305471, 1.12829271, 0.89028502, 0.18519376,\n",
       "           0.27944264, 0.07905676, 0.37843179, 0.12467119, 0.38723298,\n",
       "           0.31352758, 0.2299764 , 0.4060797 , 0.3002941 , 0.10012032,\n",
       "           0.2266999 , 0.34244799, 0.29913279, 0.30164316, 0.27197621,\n",
       "           0.41278232, 0.19921681, 0.26094673, 0.1928656 , 0.32346316,\n",
       "           0.1824131 , 0.23621308, 0.20356342, 0.24193029, 0.25168201,\n",
       "           0.16941596, 0.27456657, 0.25860648, 0.18610037, 0.24939625,\n",
       "           0.26999449, 0.20074625, 0.18093309, 0.22364107, 0.17384163,\n",
       "           0.23060749, 0.23757303, 0.17268868, 0.19832521, 0.25013132,\n",
       "           0.20131316, 0.20196336, 0.16244687, 0.20622776, 0.15166474,\n",
       "           0.17686622, 0.23789772, 0.21211306, 0.19157162, 0.18761684,\n",
       "           0.15583844, 0.17980289, 0.08297362, 0.18031861, 0.13110541,\n",
       "           0.19284688, 0.20443951, 0.19191047, 0.09159195, 0.19752264,\n",
       "           0.20172411, 0.17450404, 0.14168009, 0.164051  , 0.16080955,\n",
       "           0.16671593, 0.18135997, 0.14732431, 0.14624091, 0.18067725,\n",
       "           0.1537083 , 0.11278242, 0.09780127, 0.17705466, 0.11053788,\n",
       "           0.14522247, 0.18407167, 0.13350783, 0.13453762, 0.16690957,\n",
       "           0.10695347, 0.14232193, 0.11998837, 0.17673643, 0.17224066,\n",
       "           0.14721181, 0.1271742 , 0.14637117, 0.12298474, 0.11453012,\n",
       "           0.13078013, 0.11391367, 0.14543828, 0.1211631 , 0.15049526,\n",
       "           0.14772488, 0.10981747, 0.15512725, 0.11935052, 0.12775608,\n",
       "           0.13303465, 0.114592  , 0.14668786, 0.14040198, 0.10844365,\n",
       "           0.12137952, 0.14364569, 0.11281301, 0.11764711, 0.14563737,\n",
       "           0.14435922, 0.07631952, 0.11239817, 0.11762153, 0.09388169,\n",
       "           0.1144656 , 0.10090751, 0.11324419, 0.10840592, 0.09216765,\n",
       "           0.11507964, 0.09485794, 0.12049052, 0.09714397, 0.11235392,\n",
       "           0.1050847 , 0.10033748, 0.07677353, 0.09859687, 0.11747304,\n",
       "           0.10273377, 0.0928394 , 0.08901863, 0.06968604, 0.08218617,\n",
       "           0.08770261, 0.08769312, 0.11165286, 0.07621908, 0.09075168,\n",
       "           0.12264063, 0.09108497, 0.07583838, 0.04992004] arcsec>"
      ]
     },
     "execution_count": 30,
     "metadata": {},
     "output_type": "execute_result"
    }
   ],
   "source": [
    "outerHZs"
   ]
  },
  {
   "cell_type": "code",
   "execution_count": 31,
   "metadata": {},
   "outputs": [
    {
     "data": {
      "text/plain": [
       "\"sim.OpticalSystem.Cp_Cb_Csp(TL,\\n                                                          allstars,\\n                                                          0*allstars*u.arcsec**(-2), #neglects local zodi\\n                                                          fEZ_outer,0*allstars,mode[ 'IWA']*np.ones(len(allstars)),\\n                                                          mode,returnExtra=True)\""
      ]
     },
     "execution_count": 31,
     "metadata": {},
     "output_type": "execute_result"
    }
   ],
   "source": [
    "TL.fillPhotometryVals()\n",
    "\n",
    "#rates:\n",
    "\n",
    "\n",
    "#C_ez=C_F0*fEZ*Omega*core_thruput\n",
    "#cb is the background including detector noise\n",
    "#csp is the speckles\n",
    "cp,cb,csp, extra02as =  sim.OpticalSystem.Cp_Cb_Csp(TL,\n",
    "                            allstars,\n",
    "                            0*allstars*u.arcsec**(-2), #neglects local zodi\n",
    "                            fEZ_outer,0*allstars,mode[ 'IWA']*np.ones(len(allstars)),mode,returnExtra=True)\n",
    "\n",
    "cp,cb,csp, extraInner =  sim.OpticalSystem.Cp_Cb_Csp(TL,\n",
    "                            allstars,\n",
    "                            0*allstars*u.arcsec**(-2),\n",
    "                            fEZ_inner,0*allstars,innerHZs,mode,returnExtra=True)\n",
    "#run for outer HZ surface brightness:\n",
    "cp,cbOuter,csp, extraOuter =  sim.OpticalSystem.Cp_Cb_Csp(TL,\n",
    "                                                          allstars,\n",
    "                                                          0*allstars*u.arcsec**(-2), #neglects local zodi\n",
    "                                                          fEZ_outer,0*allstars,outerHZs,\n",
    "                                                          mode,returnExtra=True)# speckle rate includes post processing, [\"C_sr\"] is the raw speckle rate!\n",
    "#assume everything is at the IWA:\n",
    "cp,cbIWA,csp, extraIWA =  sim.OpticalSystem.Cp_Cb_Csp(TL,\n",
    "                                                          allstars,\n",
    "                                                          0*allstars*u.arcsec**(-2), #neglects local zodi\n",
    "                                                          fEZ_IWA,\n",
    "                                                          0*allstars,\n",
    "                                                          mode[ 'IWA']*np.ones(len(allstars)),\n",
    "                                                          mode,returnExtra=True)\n",
    "cp,cbOuter,csp, extraOuter = cp,cbOuter,csp, extraOuter\n",
    "'''sim.OpticalSystem.Cp_Cb_Csp(TL,\n",
    "                                                          allstars,\n",
    "                                                          0*allstars*u.arcsec**(-2), #neglects local zodi\n",
    "                                                          fEZ_outer,0*allstars,mode[ 'IWA']*np.ones(len(allstars)),\n",
    "                                                          mode,returnExtra=True)'''"
   ]
  },
  {
   "cell_type": "code",
   "execution_count": 32,
   "metadata": {},
   "outputs": [
    {
     "name": "stderr",
     "output_type": "stream",
     "text": [
      "/Users/edouglas/anaconda3/envs/python39/lib/python3.9/site-packages/astropy/units/quantity.py:1039: FutureWarning: Using a non-tuple sequence for multidimensional indexing is deprecated; use `arr[tuple(seq)]` instead of `arr[seq]`. In the future this will be interpreted as an array index, `arr[np.array(seq)]`, which will result either in an error or a different result.\n",
      "  out = super().__getitem__(key)\n"
     ]
    },
    {
     "data": {
      "text/plain": [
       "(<Quantity [3.89977181e-09] 1 / arcsec2>,\n",
       " <Quantity [3.89977181e-09] 1 / arcsec2>)"
      ]
     },
     "execution_count": 32,
     "metadata": {},
     "output_type": "execute_result"
    }
   ],
   "source": [
    "ref_star=[TL.Name==\"HIP 2021\"]\n",
    "fEZ_outer[ref_star],fEZ_IWA[ref_star]"
   ]
  },
  {
   "cell_type": "code",
   "execution_count": 33,
   "metadata": {},
   "outputs": [
    {
     "data": {
      "text/latex": [
       "$0.007869693 \\; \\mathrm{\\frac{1}{s}}$"
      ],
      "text/plain": [
       "<Quantity 0.00786969 1 / s>"
      ]
     },
     "execution_count": 33,
     "metadata": {},
     "output_type": "execute_result"
    }
   ],
   "source": [
    "np.nanmax(extraOuter[\"C_ez\"])"
   ]
  },
  {
   "cell_type": "code",
   "execution_count": 34,
   "metadata": {},
   "outputs": [
    {
     "name": "stdout",
     "output_type": "stream",
     "text": [
      "[0.06034925] 1 / s [0.00786969] 1 / s\n"
     ]
    },
    {
     "data": {
      "text/plain": [
       "(<Quantity [0.06034925] 1 / s>,\n",
       " <Quantity [0.60596636] 1 / s>,\n",
       " <Quantity [0.01508731] 1 / s>)"
      ]
     },
     "execution_count": 34,
     "metadata": {},
     "output_type": "execute_result"
    }
   ],
   "source": [
    "#-TL.starMag(allstars, mode[\"lam\"])\n",
    "print(extraIWA[\"C_sr\"][ref_star],extraIWA[\"C_ez\"][ref_star])#77\n",
    "extraIWA[\"C_sr\"][ref_star],77*extraIWA[\"C_ez\"][ref_star],csp[ref_star] #77"
   ]
  },
  {
   "cell_type": "code",
   "execution_count": 35,
   "metadata": {},
   "outputs": [
    {
     "name": "stderr",
     "output_type": "stream",
     "text": [
      "/Users/edouglas/anaconda3/envs/python39/lib/python3.9/site-packages/astropy/units/quantity.py:477: RuntimeWarning: invalid value encountered in true_divide\n",
      "  result = super().__array_ufunc__(function, method, *arrays, **kwargs)\n"
     ]
    },
    {
     "data": {
      "text/plain": [
       "<matplotlib.legend.Legend at 0x7f7f7b4525b0>"
      ]
     },
     "execution_count": 35,
     "metadata": {},
     "output_type": "execute_result"
    },
    {
     "data": {
      "image/png": "[encoded data removed]",
      "text/plain": [
       "<Figure size 432x288 with 1 Axes>"
      ]
     },
     "metadata": {
      "needs_background": "light"
     },
     "output_type": "display_data"
    }
   ],
   "source": [
    "def snr(signal,noise,t):\n",
    "    #print((noise*t))\n",
    "    return (signal*t/np.sqrt(noise*t+signal*t)).decompose()\n",
    "plt.scatter(starmag[allstars],snr(extraIWA[\"C_ez\"],extraIWA[\"C_sr\"],100*u.hour),s=10,label=\"0.15 as\")\n",
    "\n",
    "plt.scatter(starmag[allstars],snr(extraOuter[\"C_ez\"],extraOuter[\"C_sr\"],100*u.hour),s=10,label=\"Outer\")\n",
    "\n",
    "plt.scatter(starmag[allstars],snr(extraInner[\"C_ez\"],extraInner[\"C_sr\"],100*u.hour),s=30,\n",
    "            alpha=.6,\n",
    "            label=\"Inner\")\n",
    "plt.ylabel(\"SNR at HZ boundary\")\n",
    "plt.xlabel(r\"m$_{V}$\")\n",
    "plt.legend()\n",
    "#print(extra02as)"
   ]
  },
  {
   "cell_type": "code",
   "execution_count": 36,
   "metadata": {},
   "outputs": [
    {
     "data": {
      "text/plain": [
       "74"
      ]
     },
     "execution_count": 36,
     "metadata": {},
     "output_type": "execute_result"
    }
   ],
   "source": [
    "(extraIWA[\"C_sr\"]/extraIWA[\"C_ez\"])[TL.Vmag<3]\n",
    "extraIWA[\"C_ez\"][np.isfinite(extraIWA[\"C_ez\"])].size"
   ]
  },
  {
   "cell_type": "code",
   "execution_count": 37,
   "metadata": {},
   "outputs": [
    {
     "data": {
      "text/plain": [
       "Text(0.5, 0, 'm$_v$')"
      ]
     },
     "execution_count": 37,
     "metadata": {},
     "output_type": "execute_result"
    },
    {
     "data": {
      "image/png": "[encoded data removed]",
      "text/plain": [
       "<Figure size 432x288 with 1 Axes>"
      ]
     },
     "metadata": {
      "needs_background": "light"
     },
     "output_type": "display_data"
    }
   ],
   "source": [
    "\n",
    "assert mode[\"SNR\"]==5\n",
    "\n",
    "SNR=5#mode[\"SNR\"]\n",
    "\n",
    "#background shouldn't be included here because this is the infinite exposure time case\n",
    "nz_critIWA=SNR*(extraIWA[\"C_sr\"])/extraIWA[\"C_ez\"]\n",
    "nz_critInner=SNR*(extraInner[\"C_sr\"])/extraInner[\"C_ez\"]\n",
    "\n",
    "\n",
    "plt.scatter(starmag,nz_critIWA,label=\"IWA\")\n",
    "plt.scatter(starmag,nz_critInner,\n",
    "                        label=\"Inner\")\n",
    "\n",
    "\n",
    "plt.yscale(\"log\")\n",
    "plt.legend()\n",
    "plt.ylabel(\"n$_{zodi}$\")\n",
    "plt.xlabel(\"m$_v$\")\n"
   ]
  },
  {
   "cell_type": "code",
   "execution_count": 38,
   "metadata": {},
   "outputs": [],
   "source": [
    "HabExDF_NoBinary[\"EXOSIMS_nz_critOuter\"] =nz_critIWA"
   ]
  },
  {
   "cell_type": "code",
   "execution_count": 39,
   "metadata": {},
   "outputs": [],
   "source": [
    "HabExDF_NoBinary.to_latex(\"WFIRST-CGI-disks-Uno/HabExDF_NoBinary.tex\",\n",
    "                          header=False,\n",
    "                          na_rep='Below Threshold', \n",
    "                          columns=[\"EXOSIMS_nz_critOuter\"])\n",
    "#HabExDF_NoBinary[r\"\\\\\"]=r\"\\\\\"\n",
    "#HabExDF_NoBinary.to_csv(\"WFIRST-CGI-disks-Uno/HabExDF_NoBinary.csv\",columns=[\"EXOSIMS_nz_critOuter\",r\"\\\\\"])"
   ]
  },
  {
   "cell_type": "code",
   "execution_count": null,
   "metadata": {},
   "outputs": [],
   "source": []
  },
  {
   "cell_type": "code",
   "execution_count": 40,
   "metadata": {},
   "outputs": [
    {
     "data": {
      "image/png": "[encoded data removed]",
      "text/plain": [
       "<Figure size 432x288 with 2 Axes>"
      ]
     },
     "metadata": {
      "needs_background": "light"
     },
     "output_type": "display_data"
    }
   ],
   "source": [
    "\n",
    "plt.scatter(TL.Vmag,-2.5*np.log10(extraIWA[\"C_sr\"].value/extraIWA[\"C_F0\"].value/.05**2),\n",
    "            c=TL.dist,#\"-2.5*np.log10(extraOuter[\"C_sr\"].value/extraOuter[\"C_F0\"].value/.05**2)-SB_IWA,\n",
    "            cmap=plt.get_cmap('cmr.rainforest_r') \n",
    "           )\n",
    "plt.xlabel(\"\")\n",
    "plt.ylabel(r\"IWA Speckle Brightness [$m_{\\rm V}/as^2$]\")\n",
    "plt.xlabel(r\"$m_{\\rm V}$\")\n",
    "plt.colorbar(label=\"distance [pc]\")\n",
    "plt.savefig(\"WFIRST-CGI-disks-Uno/IWA_Speckles_vs_mv_\"+mode[\"systName\"]+\".pdf\",bbox_inches=\"tight\")"
   ]
  },
  {
   "cell_type": "code",
   "execution_count": 41,
   "metadata": {},
   "outputs": [],
   "source": [
    "#sim.OpticalSystem.calc_intTime?\n",
    "\n",
    "def zodi_mag_per_resel(Zodis):\n",
    "    return (-2.5*np.log10(fEZ_IWA.value)) - 2.5*np.log10(Zodis) - 2.5*np.log10(resel_area) - TL.Vmag\n",
    "\n",
    "\n",
    "\n",
    "\n",
    "zIWA=zodi_mag_per_resel((nz_critIWA))\n",
    "\n",
    "#plt.plot(zIWA)\n",
    "#plt.plot(zodi_mag_per_resel(40))"
   ]
  },
  {
   "cell_type": "code",
   "execution_count": null,
   "metadata": {},
   "outputs": [],
   "source": []
  },
  {
   "cell_type": "code",
   "execution_count": null,
   "metadata": {},
   "outputs": [],
   "source": []
  },
  {
   "cell_type": "code",
   "execution_count": null,
   "metadata": {},
   "outputs": [],
   "source": []
  },
  {
   "cell_type": "code",
   "execution_count": null,
   "metadata": {},
   "outputs": [],
   "source": []
  },
  {
   "cell_type": "code",
   "execution_count": 42,
   "metadata": {},
   "outputs": [
    {
     "name": "stderr",
     "output_type": "stream",
     "text": [
      "No handles with labels found to put in legend.\n"
     ]
    },
    {
     "data": {
      "text/plain": [
       "Text(0, 0.5, 'n$_{zodi}$')"
      ]
     },
     "execution_count": 42,
     "metadata": {},
     "output_type": "execute_result"
    },
    {
     "data": {
      "image/png": "[encoded data removed]",
      "text/plain": [
       "<Figure size 648x504 with 1 Axes>"
      ]
     },
     "metadata": {
      "needs_background": "light"
     },
     "output_type": "display_data"
    }
   ],
   "source": [
    "#assert mode[\"SNR\"]==5\n",
    "SNR=mode[\"SNR\"]\n",
    "plt.figure(figsize=[9,7])\n",
    "b2=[]\n",
    "ndet=[]\n",
    "for i in range(10000):\n",
    "    draws1 = lognorm.rvs(s, scale=m, size=starmag.size)\n",
    "    draws2 = lognorm.rvs(s, scale=3, size=starmag.size)\n",
    "    ndet.append(nz_critIWA[nz_critIWA/draws1>1].size)\n",
    "\n",
    "    nz1o_sorted=np.sort(nz_critIWA)\n",
    "    nz1i_sorted=np.sort(nz_critInner)\n",
    "\n",
    "    # nz1o_sorted2=np.sort(nz_critOuter2)\n",
    "    #nz1i_sorted2=np.sort(nz_critInner2)\n",
    "    plt.plot(nz1o_sorted,alpha=.1,color=\"blue\")#,label=\"Outer\")\n",
    "    plt.plot(nz1i_sorted,alpha=.1,color=\"blue\")#label=\"Inner\")\n",
    "    #plt.plot(nz1o_sorted2,alpha=.1,color=\"black\")#,label=\"Outer\")\n",
    "    #plt.plot(nz1i_sorted2,alpha=.1,color=\"black\")#label=\"Inner\")\n",
    "\n",
    "    b2.append(nz1i_sorted)\n",
    "\n",
    "plt.yscale(\"log\")\n",
    "plt.legend()\n",
    "plt.ylabel(\"n$_{zodi}$\")\n",
    "#plt.xlabel(\"m$_v$\")\n",
    "\n"
   ]
  },
  {
   "cell_type": "code",
   "execution_count": 43,
   "metadata": {},
   "outputs": [
    {
     "data": {
      "text/plain": [
       "4"
      ]
     },
     "execution_count": 43,
     "metadata": {},
     "output_type": "execute_result"
    },
    {
     "data": {
      "image/png": "[encoded data removed]",
      "text/plain": [
       "<Figure size 432x288 with 1 Axes>"
      ]
     },
     "metadata": {
      "needs_background": "light"
     },
     "output_type": "display_data"
    }
   ],
   "source": [
    "from scipy.stats.mstats import mquantiles\n",
    "from astropy.visualization import hist\n",
    "\n",
    "draws= lognorm.rvs(s, scale=5, size=starmag.size)\n",
    "plt.hist(draws/5,bins=\"auto\")\n",
    "nz_critIWA[nz_critIWA<(draws)].size"
   ]
  },
  {
   "cell_type": "code",
   "execution_count": 44,
   "metadata": {
    "scrolled": true
   },
   "outputs": [
    {
     "name": "stdout",
     "output_type": "stream",
     "text": [
      "z=27. detectionNZ: 51, 95th quantile : 43 - 58, \\sigma= 3.8\n",
      "z=9. detectionNZ: 31, 95th quantile : 23 - 39, \\sigma= 4.2\n",
      "z=3. detectionNZ: 13, 95th quantile : 7 - 20, \\sigma= 3.3\n",
      "z=1. detectionNZ: 4, 95th quantile : 1 - 8, \\sigma= 1.9\n"
     ]
    },
    {
     "data": {
      "image/png": "[encoded data removed]",
      "text/plain": [
       "<Figure size 432x288 with 1 Axes>"
      ]
     },
     "metadata": {
      "needs_background": "light"
     },
     "output_type": "display_data"
    },
    {
     "data": {
      "image/png": "[encoded data removed]",
      "text/plain": [
       "<Figure size 432x288 with 1 Axes>"
      ]
     },
     "metadata": {
      "needs_background": "light"
     },
     "output_type": "display_data"
    }
   ],
   "source": [
    "import scipy.stats\n",
    "\n",
    "zrange=[27,9,3,1]\n",
    "fig, ax = plt.subplots()\n",
    "fig2, ax2 = plt.subplots()\n",
    "table_out=open(\"WFIRST-CGI-disks-Uno/conf_tab_values\"+str(alphaZ).replace(\".\",\"_\")+\"alpha\"\n",
    "            +mode[\"systName\"]+\".tex\",mode=\"w\")\n",
    "detectionNZ=nz_critIWA*f_pp\n",
    "\n",
    "\n",
    "for z in zrange:\n",
    "    ndet={\"detectionNZ\":[],\"nz_critIWA\":[]}\n",
    "    for i in range(10000):\n",
    "        #print(z)\n",
    "        draws= lognorm.rvs(s, scale=z, size=starmag.size)\n",
    "        ndet[\"detectionNZ\"].append(detectionNZ[detectionNZ/(draws)<1].size)\n",
    "        #ndet[\"nz_critInner\"].append(nz_critInner[nz_critInner/(draws)<1].size)\n",
    "        #print(ndet[\"detectionNZ\"])\n",
    "\n",
    "\n",
    "    \n",
    "    for key in [\"detectionNZ\"]:\n",
    "        crit = ndet[key]\n",
    "        quantiles=list(mquantiles(crit,prob=[0.025,0.975]))\n",
    "        print(\"z=\"+str(z)+\". \"+ key\n",
    "              +\": %.0f, 95th quantile : %.2g - %.2g, \\sigma= %.2g\"%tuple([np.mean(crit)]+\n",
    "                                                                           quantiles+\n",
    "                                                                           [np.std(crit)]))\n",
    "        print(str(z)+ r\"& %1.0f & %.2g - %.2g \\\\\"%tuple([np.mean(crit)]+quantiles),\n",
    "              file=table_out)\n",
    "        hist(crit,alpha=z/np.max(zrange)*.8+.1,label=str(z)+\"- \"+key,density=True,\n",
    "             ax=ax)\n",
    "        #ax2.errorbar(z,np.mean(crit),yerr=np.array([quintiles]).T-np.mean(crit),color=\"black\",)\n",
    "        #ax2.plot(z,np.mean(crit),\".\",color=\"black\",markersize=20)\n",
    "        ax2.vlines( z, quantiles[0],quantiles[1],linewidth=5,color=\"k\")\n",
    "        violins=ax2.violinplot(crit, positions=[z], widths=5, \n",
    "                       showmeans=False,\n",
    "                       points=np.size(crit), \n",
    "                       showextrema=False,\n",
    "                       showmedians=True, bw_method=0.5)\n",
    "        \n",
    "\n",
    "        for b in violins['bodies']:\n",
    "            # get the center\n",
    "            m = np.mean(b.get_paths()[0].vertices[:, 0])\n",
    "            # modify the paths to not go further right than the center\n",
    "            b.get_paths()[0].vertices[:, 0] = np.clip(b.get_paths()[0].vertices[:, 0], m, np.inf)\n",
    "            b.set_color('gray')\n",
    "\n",
    "        '''violins=ax2.violinplot(crit, positions=[z], widths=5, \n",
    "                       showmeans=False,\n",
    "                       points=np.size(crit), \n",
    "                       showextrema=False,\n",
    "                       showmedians=True, bw_method=0.5)\n",
    "        '''\n",
    "\n",
    "\n",
    "            \n",
    "        \n",
    "table_out.close()        \n",
    "ax.legend()\n",
    "\n",
    "#ax2.legend()\n",
    "\n",
    "ax.set_ylabel(\"Probability Density\")\n",
    "ax.set_xlabel(\"Number of Detected Systems\")\n",
    "fig.savefig(\"WFIRST-CGI-disks-Uno/ndet_lognorm_dist\"+mode[\"systName\"]+str(f_pp)+\".pdf\",bbox_inches=\"tight\")\n",
    "\n",
    "\n",
    "\n",
    "ax2.set_ylabel(\"Number of Detected Systems\")\n",
    "\n",
    "ax2.set_xlabel(r\"$n_{z}$\")\n",
    "#plt.ylim([0,1])\n",
    "fig2.savefig(\"WFIRST-CGI-disks-Uno/ndet_lognorm_bars_\"+mode[\"systName\"]+\".pdf\",bbox_inches=\"tight\",)"
   ]
  },
  {
   "cell_type": "code",
   "execution_count": 45,
   "metadata": {},
   "outputs": [
    {
     "name": "stdout",
     "output_type": "stream",
     "text": [
      "[8.56021044e+01 1.95693256e+01 7.80891715e+01 6.74266902e+00\n",
      " 1.97076713e-01 1.74791297e-01            nan 2.14784718e+00\n",
      "            nan 1.36905901e+00 8.98125923e+00 5.06605943e+01\n",
      " 3.61354962e+01 1.03495244e+01            nan 8.57147264e+02\n",
      " 7.92906032e+00 3.40944482e-01 1.40738595e+00 6.09054994e-01\n",
      " 3.33778369e+00 3.38370244e+00 2.00265428e+00 1.44917743e+01\n",
      " 9.81396971e-01 1.01647530e+01 1.21777897e+00 8.07972292e+00\n",
      " 1.01416963e+02 6.80281768e+00 9.76748712e+00 1.27244976e+00\n",
      " 1.86200076e+00 2.90640152e+00 3.55856283e+00 6.58211551e+00\n",
      " 1.09136252e+01 3.51232296e-01 8.58128721e+00 3.31243788e-01\n",
      " 2.41571350e+00 2.14171699e+01 2.60177060e+01 4.77538328e+00\n",
      " 2.71258504e+00 4.23284494e+01 5.38611747e+01 7.75337915e-01\n",
      " 1.59241812e+00 1.73381338e+00 4.21373277e+00 5.85215404e+01\n",
      " 4.54697920e+00 2.65110720e+01 8.55876373e-01 2.33691289e+00\n",
      " 7.95686863e-01            nan 5.06615567e+00            nan\n",
      " 8.72947093e+00 2.56887518e+00 2.58949588e-01            nan\n",
      " 1.34279656e+00 1.29630426e+01 3.32110990e-01            nan\n",
      " 3.50584392e+00 3.14512915e+01 1.16627425e+01 3.22654172e+00\n",
      "            nan            nan 1.96504317e+00 5.88927655e+00\n",
      "            nan            nan 2.45545689e+00            nan\n",
      "            nan 5.82500608e-02            nan            nan\n",
      " 6.62104852e-01            nan            nan            nan\n",
      " 3.28615796e+01 1.12836467e+00            nan            nan\n",
      "            nan            nan            nan            nan\n",
      "            nan            nan            nan 2.46718015e+00\n",
      "            nan            nan 3.44057703e+00            nan\n",
      "            nan            nan            nan            nan\n",
      "            nan            nan            nan            nan\n",
      "            nan            nan            nan            nan\n",
      "            nan            nan            nan            nan\n",
      "            nan            nan            nan            nan\n",
      "            nan            nan            nan            nan\n",
      "            nan            nan            nan            nan\n",
      "            nan            nan            nan            nan\n",
      "            nan            nan            nan            nan\n",
      "            nan            nan            nan            nan\n",
      "            nan            nan            nan            nan\n",
      "            nan]\n",
      "[ 24.67016335 100.61044616  23.7900935   80.88873469   0.29850632\n",
      "   7.88546299          nan   4.59509028          nan  35.22590958\n",
      "   4.75605563   1.0062089   80.04722144   5.42250355          nan\n",
      "   1.45518757  70.53410732   3.98663576   2.20789985   0.33030334\n",
      "  18.79808215   0.88645588  20.14646725   0.78499145   6.68230113\n",
      "   1.2894653   16.2763932    3.41976902  10.28488798   1.55034322\n",
      "  19.32344321   8.64472839   0.70085672   2.50331463   3.54963264\n",
      "   1.09414608  38.2318081    2.86068157   1.59975932   0.179345\n",
      "   3.16612822   2.49479563   4.21285185   5.93075609   0.49952709\n",
      "   1.30724723  17.16014785  24.57692392   4.39509673  10.39808337\n",
      "   7.91714091   0.26990987   3.17139399  24.78602344   2.78681642\n",
      "   1.78062317  11.20897613          nan   2.34666571          nan\n",
      "   5.86242423  36.36315626   3.20224596          nan   0.18523931\n",
      "   4.53962387   0.45804049          nan   0.97381072   2.89952891\n",
      "  35.42540467   5.56154538          nan          nan   0.8821431\n",
      "   0.95554524          nan          nan   0.36623679          nan\n",
      "          nan  46.13664245          nan          nan  18.8349057\n",
      "          nan          nan          nan  16.26532678  60.45898199\n",
      "          nan          nan          nan          nan          nan\n",
      "          nan          nan          nan          nan   4.72054983\n",
      "          nan          nan   0.46405586          nan          nan\n",
      "          nan          nan          nan          nan          nan\n",
      "          nan          nan          nan          nan          nan\n",
      "          nan          nan          nan          nan          nan\n",
      "          nan          nan          nan          nan          nan\n",
      "          nan          nan          nan          nan          nan\n",
      "          nan          nan          nan          nan          nan\n",
      "          nan          nan          nan          nan          nan\n",
      "          nan          nan          nan          nan          nan\n",
      "          nan          nan          nan          nan]\n",
      "[1.19940369e+01 2.63949688e+02 2.42482922e+01 1.06384349e+01\n",
      " 5.17494712e+00 1.04957319e+02            nan 4.53317749e-01\n",
      "            nan 1.73171191e+01 1.05401223e+00 1.17979398e+00\n",
      " 6.08350156e+00 4.61332924e-01            nan 6.28582216e+00\n",
      " 1.02920691e+00 1.65119836e+00 1.76453966e+00 7.59135126e+00\n",
      " 5.89204348e+00 2.80431455e+01 2.55586142e+00 6.26842840e+00\n",
      " 1.35241345e+00 4.94572944e-01 1.29833181e+01 1.32774565e+01\n",
      " 3.08911788e-01 6.30614920e-01 3.17270971e+00 4.31007475e+00\n",
      " 1.39525340e+00 3.18067652e+00 3.65975235e+01 1.81378131e+00\n",
      " 1.48171148e+00 2.42456876e+01 2.08693830e+00 5.76141262e-01\n",
      " 6.07995970e-01 7.75788734e-01 6.28823005e-01 7.06741330e-01\n",
      " 1.83568359e+01 2.44826161e+00 4.23438889e-01 1.32212660e+01\n",
      " 1.02295065e+01 8.54513420e-01 8.76075364e+00 1.79333353e+01\n",
      " 7.64390087e+01 1.24066432e+00 7.06699817e+00 9.50288584e+01\n",
      " 3.63844930e+00            nan 1.26470324e+00            nan\n",
      " 1.41422638e+00 1.09330873e-01 6.90688683e+00            nan\n",
      " 4.99934175e+00 6.53126097e+00 1.16606518e+00            nan\n",
      " 7.94039051e+00 3.66358341e+01 3.23669697e+00 8.17876292e+00\n",
      "            nan            nan 1.61729144e+00 6.15983964e+00\n",
      "            nan            nan 1.53846491e+01            nan\n",
      "            nan 1.01514368e+01            nan            nan\n",
      " 4.74621536e+00            nan            nan            nan\n",
      " 3.27715591e-01 4.62530983e+00            nan            nan\n",
      "            nan            nan            nan            nan\n",
      "            nan            nan            nan 2.01467876e+01\n",
      "            nan            nan 5.70596604e+00            nan\n",
      "            nan            nan            nan            nan\n",
      "            nan            nan            nan            nan\n",
      "            nan            nan            nan            nan\n",
      "            nan            nan            nan            nan\n",
      "            nan            nan            nan            nan\n",
      "            nan            nan            nan            nan\n",
      "            nan            nan            nan            nan\n",
      "            nan            nan            nan            nan\n",
      "            nan            nan            nan            nan\n",
      "            nan            nan            nan            nan\n",
      "            nan            nan            nan            nan\n",
      "            nan]\n",
      "[4.35768678e-01 2.43511971e+03 1.06891158e+02 2.43110100e+01\n",
      " 6.41730228e+00 1.70244979e+00            nan 4.62933708e+00\n",
      "            nan 4.97941359e+00 6.31239423e-01 6.52519795e+00\n",
      " 2.84275292e+00 5.60851000e-01            nan 7.47721682e-01\n",
      " 1.73354183e+01 2.45400685e+01 9.88993962e-02 4.97279356e+00\n",
      " 3.55473485e+01 1.08220175e+01 7.39246112e-01 6.25046359e-01\n",
      " 2.08741854e+00 1.66447302e+01 5.79369465e-01 2.26389426e+01\n",
      " 1.81362735e+00 3.29113068e+00 4.73113531e+00 2.89932183e+01\n",
      " 8.00233946e-01 5.78338086e+01 3.00207599e+00 6.63704059e-01\n",
      " 4.39535056e+01 7.81477034e-01 1.09079829e+01 1.92225312e+00\n",
      " 2.52388816e+00 3.23548803e+00 7.90651629e+00 1.15662036e+01\n",
      " 1.97358774e+01 1.15255117e+01 4.03898033e+00 1.90023574e+01\n",
      " 5.67153213e+00 1.32816305e+00 1.27893848e+00 8.58395037e+00\n",
      " 7.33177738e+00 3.25953688e+00 7.16930747e+00 2.92178685e+00\n",
      " 4.76043209e+00            nan 1.78506862e+01            nan\n",
      " 5.97283393e-01 1.55786353e+01 2.64941797e+00            nan\n",
      " 5.06036304e-01 1.64027047e+00 5.27766349e-01            nan\n",
      " 8.84381287e+00 1.06124792e+00 1.21806093e+00 4.75803354e+00\n",
      "            nan            nan 2.30032250e+01 1.86445783e+02\n",
      "            nan            nan 2.59939664e+00            nan\n",
      "            nan 9.91147201e-01            nan            nan\n",
      " 7.39650816e+00            nan            nan            nan\n",
      " 1.44471558e+00 2.34842471e-01            nan            nan\n",
      "            nan            nan            nan            nan\n",
      "            nan            nan            nan 2.06253610e+00\n",
      "            nan            nan 4.45906230e+01            nan\n",
      "            nan            nan            nan            nan\n",
      "            nan            nan            nan            nan\n",
      "            nan            nan            nan            nan\n",
      "            nan            nan            nan            nan\n",
      "            nan            nan            nan            nan\n",
      "            nan            nan            nan            nan\n",
      "            nan            nan            nan            nan\n",
      "            nan            nan            nan            nan\n",
      "            nan            nan            nan            nan\n",
      "            nan            nan            nan            nan\n",
      "            nan            nan            nan            nan\n",
      "            nan]\n"
     ]
    }
   ],
   "source": [
    "#test that the scale is close the median\n",
    "np.median(lognorm.rvs(s, scale=10, size=10000))\n",
    "(nz_critIWA)[nz_critIWA>0].size\n",
    "\n",
    "for z in [3,3]:\n",
    "    for i in range(2):\n",
    "        draws= lognorm.rvs(s, scale=z, size=starmag.size)\n",
    "        print(detectionNZ/draws)\n",
    "        #ndet[\"detectionNZ\"].append(detectionNZ[detectionNZ/(draws)<1].size)\n",
    "        #ndet[\"nz_critInner\"].append(nz_critInner[nz_critInner/(draws)<1].size)\n",
    "#print(detectionNZ[detectionNZ/(draws)<1])\n"
   ]
  },
  {
   "cell_type": "code",
   "execution_count": 46,
   "metadata": {},
   "outputs": [
    {
     "data": {
      "text/plain": [
       "(array([ 1.,  1.,  1.,  1.,  2.,  1.,  4.,  1., 10.,  7.,  8.,  8., 13.,\n",
       "         9.,  1.,  2.,  2.,  0.,  0.,  0.,  1.,  1.,  0.,  0.,  0.,  0.,\n",
       "         0.,  0.,  0.,  0.,  0.]),\n",
       " array([ 0.,  1.,  2.,  3.,  4.,  5.,  6.,  7.,  8.,  9., 10., 11., 12.,\n",
       "        13., 14., 15., 16., 17., 18., 19., 20., 21., 22., 23., 24., 25.,\n",
       "        26., 27., 28., 29., 30., 31.]),\n",
       " [<matplotlib.patches.Polygon at 0x7f7f6bcfa970>])"
      ]
     },
     "execution_count": 46,
     "metadata": {},
     "output_type": "execute_result"
    },
    {
     "data": {
      "image/png": "[encoded data removed]",
      "text/plain": [
       "<Figure size 432x288 with 1 Axes>"
      ]
     },
     "metadata": {
      "needs_background": "light"
     },
     "output_type": "display_data"
    }
   ],
   "source": [
    "\n",
    "hist=plt.hist(sp_short,alpha=.4,label='HabEx Targets', bins=np.unique(sp_short))\n",
    "plt.hist(sp_short[IWA_AU>0],alpha=.4,label='Visible HZ',histtype=\"step\",linewidth=3, bins=np.unique(sp_short),\n",
    "         color=\"black\")\n",
    "\n"
   ]
  },
  {
   "cell_type": "code",
   "execution_count": 47,
   "metadata": {},
   "outputs": [
    {
     "name": "stdout",
     "output_type": "stream",
     "text": [
      "13.2088\n"
     ]
    }
   ],
   "source": [
    "## perform random draws to get the distribution versus spectral type:\n",
    "spec_det = []\n",
    "\n",
    "for i in range(10000):\n",
    "    draws=lognorm.rvs(s, scale=3, size=starmag.size) \n",
    "    spec_det.append(np.histogram(sp_short[detectionNZ/(draws)<1],bins=np.unique(sp_short))[0])\n",
    "print(np.mean(np.sum(spec_det,axis=1)))"
   ]
  },
  {
   "cell_type": "code",
   "execution_count": 48,
   "metadata": {},
   "outputs": [
    {
     "data": {
      "text/plain": [
       "array(['A3', 'A4', 'A6', 'A7', 'F1', 'F1', 'F2', 'F2', 'F2', 'F3', 'F3',\n",
       "       'F3', 'F3', 'F4', 'F4', 'F5', 'F5', 'F5', 'F5', 'F5', 'F5', 'F5',\n",
       "       'F5', 'F5', 'F5', 'F6', 'F6', 'F6', 'F6', 'F6', 'F6', 'F6', 'F7',\n",
       "       'F7', 'F7', 'F7', 'F7', 'F7', 'F7', 'F7', 'F8', 'F8', 'F8', 'F8',\n",
       "       'F8', 'F8', 'F8', 'F8', 'F9', 'F9', 'F9', 'F9', 'F9', 'F9', 'F9',\n",
       "       'F9', 'F9', 'F9', 'F9', 'F9', 'F9', 'F9', 'F9', 'F9', 'G0', 'G0',\n",
       "       'G0', 'G0', 'G0', 'G0', 'G0', 'G0', 'G0', 'G0', 'G0', 'G0', 'G0',\n",
       "       'G0', 'G1', 'G1', 'G1', 'G2', 'G2', 'G2', 'G2', 'G2', 'G2', 'G3',\n",
       "       'G3', 'G3', 'G3', 'G3', 'G3', 'G4', 'G5', 'G5', 'G6', 'G6', 'G7',\n",
       "       'G7', 'G7', 'G8', 'G8', 'G8', 'G8', 'G8', 'G8', 'G8', 'G8', 'G8',\n",
       "       'K0', 'K0', 'K0', 'K0', 'K0', 'K0', 'K0', 'K0', 'K0', 'K0', 'K1',\n",
       "       'K1', 'K1', 'K1', 'K1', 'K1', 'K2', 'K2', 'K2', 'K2', 'K3', 'K3',\n",
       "       'K3', 'K3', 'K3', 'K3', 'K3', 'K4', 'K4', 'K5', 'K5', 'K5', 'K6',\n",
       "       'K7', 'M1', 'M1', 'M2', 'M2', 'M2'], dtype='<U2')"
      ]
     },
     "execution_count": 48,
     "metadata": {},
     "output_type": "execute_result"
    }
   ],
   "source": [
    "\n",
    "crit\n",
    "ndet#\n",
    "[key]\n",
    "sp_short"
   ]
  },
  {
   "cell_type": "code",
   "execution_count": 49,
   "metadata": {},
   "outputs": [
    {
     "name": "stderr",
     "output_type": "stream",
     "text": [
      "/Users/edouglas/anaconda3/envs/python39/lib/python3.9/site-packages/astropy/units/quantity.py:1039: FutureWarning: Using a non-tuple sequence for multidimensional indexing is deprecated; use `arr[tuple(seq)]` instead of `arr[seq]`. In the future this will be interpreted as an array index, `arr[np.array(seq)]`, which will result either in an error or a different result.\n",
      "  out = super().__getitem__(key)\n"
     ]
    },
    {
     "data": {
      "image/png": "[encoded data removed]",
      "text/plain": [
       "<Figure size 504x288 with 1 Axes>"
      ]
     },
     "metadata": {
      "needs_background": "light"
     },
     "output_type": "display_data"
    },
    {
     "data": {
      "image/png": "[encoded data removed]",
      "text/plain": [
       "<Figure size 504x288 with 1 Axes>"
      ]
     },
     "metadata": {
      "needs_background": "light"
     },
     "output_type": "display_data"
    },
    {
     "data": {
      "image/png": "[encoded data removed]",
      "text/plain": [
       "<Figure size 288x216 with 1 Axes>"
      ]
     },
     "metadata": {
      "needs_background": "light"
     },
     "output_type": "display_data"
    }
   ],
   "source": [
    "## make plot versus spectral type\n",
    "\n",
    "plt.figure(figsize=[7,4])\n",
    "from importlib import reload\n",
    "#drop stars where the IWA is larger then the HZ:\n",
    "IWA_AU[IWA_AU>outerHZ_AU]=np.nan\n",
    "\n",
    "#set to the inner edge of the HZ if the IWA is smaller\n",
    "\n",
    "IWA_AU[IWA_AU<innerHZ_AU]=innerHZ_AU[IWA_AU<innerHZ_AU]\n",
    "plt.subplot(131)\n",
    "plt.hist(outerHZ_AU,alpha=.4,label='outer HZ edge',bins=np.arange(0,10,.5))\n",
    "plt.hist(innerHZ_AU,alpha=.4,label='inner HZ edge',bins=np.arange(0,10,.5))\n",
    "plt.hist(IWA_AU,alpha=.4,label=\"Visible HZ\",bins=np.arange(0,10,.5),histtype=\"step\",linewidth=3,\n",
    "         color=\"black\")\n",
    "plt.xlabel(\"au\")\n",
    "plt.ylabel(\"n systems\")\n",
    "plt.legend()\n",
    "plt.figure(figsize=[7,4])\n",
    "plt.subplot(121)\n",
    "plt.hist(sim.TargetList.dist,alpha=.4,label='HabEx Targets')#,bins=np.arange(0,10,.42))\n",
    "plt.hist(sim.TargetList.dist[[IWA_AU>0]],alpha=.4,label='Visible HZ',\n",
    "         histtype=\"step\",linewidth=3,         color=\"black\")\n",
    "\n",
    "#,bins=np.arange(0,10,.42))\n",
    "\n",
    "#lt.hist(innerHZ_AU,alpha=.4,label='inner HZ edge',bins=np.arange(0,10,.42))\n",
    "#plt.hist(IWA_AU,alpha=.4,label=\"IWA, if inside HZ\",bins=np.arange(0,10,.42),histtype=\"step\",linewidth=3,\n",
    "#         color=\"black\")\n",
    "plt.xlabel(\"parsecs\")\n",
    "plt.ylabel(\"n systems\")\n",
    "plt.legend()\n",
    "\n",
    "\n",
    "\n",
    "plt.figure(figsize=[4,3])\n",
    "import matplotlib.ticker as tkr\n",
    "\n",
    "\n",
    "ax=plt.subplot(111)\n",
    "#plt.hist(np.float_(sim.TargetList.specliste[:,1].flatten()),alpha=.4,label='all systems')#,bins=np.arange(0,10,.42))\n",
    "#plt.hist(np.float_(sim.TargetList.specliste[:,1].flatten())[IWA_AU>0],alpha=.4,label='visible',\n",
    "#         histtype=\"step\",linewidth=3,         color=\"black\")\n",
    "#np.float_(TL.specliste[:,1].flatten())[IWA_AU>0]\n",
    "specs=sim.TargetList.Spec.copy()\n",
    "specs.sort()\n",
    "sp_short=np.array([sp[0:2] for sp in specs])\n",
    "#sp_short[IWA_AU>0]\n",
    "\n",
    "p1=hist=plt.hist(sp_short,alpha=.4,#label='HabEx Targets',\n",
    "                 align='left',\n",
    "              bins=np.unique(sp_short),histtype=\"step\",color=\"gray\")\n",
    "p=plt.hist(sp_short[IWA_AU>0],#label='Visible HZ',\n",
    "                        align='left',\n",
    "         histtype=\"step\",linewidth=2, bins=np.unique(sp_short),\n",
    "         color=\"black\")\n",
    "\n",
    "plt.text(17,11,'HabEx Targets',color=\"gray\")\n",
    "\n",
    "plt.text(1,11,'Visible HZ',color=\"black\",)\n",
    "\n",
    "# get_xticklabels() actually gets you an iterable, so you need to rotate each label\n",
    "#ax.set_xticks(mybins)\n",
    "\n",
    "for tick in ax.xaxis.get_minor_ticks():\n",
    "    tick.tick1line.set_markersize(0)\n",
    "\n",
    "for i,tick in enumerate(ax.get_xticklabels()):\n",
    "    #i=i+1\n",
    "    if i % 2:\n",
    "        tick.set_visible(False)\n",
    "        #tickm.set_visible(False)\n",
    "    tick.set_rotation(90)\n",
    "\n",
    "plt.bar(np.unique(sp_short)[:-1],np.nanmedian(spec_det,axis=0),\n",
    "        yerr=np.nanstd(spec_det,axis=0),\n",
    "        color='black',\n",
    "        #align='left',\n",
    "        linewidth=.5,\n",
    "#yerr=list(mquantiles(spec_det,prob=[0.025,0.975])),\n",
    "        alpha=.4,label='Detected if $n_z$=3',width=-1)\n",
    "\n",
    "#,bins=np.arange(0,10,.42))\n",
    "\n",
    "#lt.hist(innerHZ_AU,alpha=.4,label='inner HZ edge',bins=np.arange(0,10,.42))\n",
    "#plt.hist(IWA_AU,alpha=.4,label=\"IWA, if inside HZ\",bins=np.arange(0,10,.42),histtype=\"step\",linewidth=3,\n",
    "#         color=\"black\")\n",
    "\n",
    "plt.ylabel(\"n systems\")\n",
    "plt.legend(loc=\"lower right\")\n",
    "plt.tight_layout()\n",
    "plt.ylim([-4.8,17])\n",
    "\n",
    "plt.savefig(\"WFIRST-CGI-disks-Uno/visible\"+mode[\"systName\"]+\".pdf\")"
   ]
  },
  {
   "cell_type": "markdown",
   "metadata": {},
   "source": []
  },
  {
   "cell_type": "code",
   "execution_count": 50,
   "metadata": {},
   "outputs": [
    {
     "data": {
      "text/plain": [
       "9.0"
      ]
     },
     "execution_count": 50,
     "metadata": {},
     "output_type": "execute_result"
    }
   ],
   "source": [
    "np.nanmedian(spec_det,axis=0).sum()\n"
   ]
  },
  {
   "cell_type": "markdown",
   "metadata": {},
   "source": [
    "#  Find median number of critical exozodi at 5sigma level"
   ]
  },
  {
   "cell_type": "code",
   "execution_count": 51,
   "metadata": {},
   "outputs": [
    {
     "data": {
      "text/latex": [
       "$[7.6566162,~99.244218] \\; \\mathrm{}$"
      ],
      "text/plain": [
       "<Quantity [ 7.65661617, 99.24421828]>"
      ]
     },
     "execution_count": 51,
     "metadata": {},
     "output_type": "execute_result"
    }
   ],
   "source": [
    "\n",
    "nz_detectionNZFin=detectionNZ[np.isfinite(detectionNZ)]\n",
    "nz_critInnerFin=nz_critInner[np.isfinite(nz_critInner)]\n",
    "nz_critInner.size,nz_critIWA.size,\n",
    "scipy.stats.mstats.mquantiles(nz_detectionNZFin,prob=[0.025,0.975])\n"
   ]
  },
  {
   "cell_type": "code",
   "execution_count": 52,
   "metadata": {},
   "outputs": [
    {
     "data": {
      "text/plain": [
       "[4,\n",
       " 4,\n",
       " 6,\n",
       " 3,\n",
       " 6,\n",
       " 6,\n",
       " 3,\n",
       " 3,\n",
       " 7,\n",
       " 2,\n",
       " 5,\n",
       " 5,\n",
       " 1,\n",
       " 2,\n",
       " 1,\n",
       " 1,\n",
       " 3,\n",
       " 5,\n",
       " 1,\n",
       " 2,\n",
       " 4,\n",
       " 5,\n",
       " 4,\n",
       " 0,\n",
       " 5,\n",
       " 1,\n",
       " 2,\n",
       " 3,\n",
       " 2,\n",
       " 3,\n",
       " 8,\n",
       " 2,\n",
       " 0,\n",
       " 3,\n",
       " 3,\n",
       " 6,\n",
       " 3,\n",
       " 4,\n",
       " 6,\n",
       " 6,\n",
       " 7,\n",
       " 6,\n",
       " 1,\n",
       " 5,\n",
       " 2,\n",
       " 6,\n",
       " 3,\n",
       " 5,\n",
       " 4,\n",
       " 5,\n",
       " 4,\n",
       " 0,\n",
       " 4,\n",
       " 3,\n",
       " 7,\n",
       " 2,\n",
       " 7,\n",
       " 5,\n",
       " 3,\n",
       " 0,\n",
       " 2,\n",
       " 2,\n",
       " 2,\n",
       " 4,\n",
       " 2,\n",
       " 7,\n",
       " 7,\n",
       " 4,\n",
       " 8,\n",
       " 6,\n",
       " 6,\n",
       " 3,\n",
       " 4,\n",
       " 5,\n",
       " 4,\n",
       " 4,\n",
       " 2,\n",
       " 4,\n",
       " 4,\n",
       " 4,\n",
       " 1,\n",
       " 4,\n",
       " 4,\n",
       " 4,\n",
       " 2,\n",
       " 3,\n",
       " 4,\n",
       " 4,\n",
       " 1,\n",
       " 6,\n",
       " 5,\n",
       " 1,\n",
       " 1,\n",
       " 5,\n",
       " 3,\n",
       " 5,\n",
       " 4,\n",
       " 7,\n",
       " 1,\n",
       " 5,\n",
       " 2,\n",
       " 6,\n",
       " 3,\n",
       " 1,\n",
       " 3,\n",
       " 3,\n",
       " 4,\n",
       " 4,\n",
       " 5,\n",
       " 4,\n",
       " 6,\n",
       " 4,\n",
       " 2,\n",
       " 1,\n",
       " 3,\n",
       " 5,\n",
       " 7,\n",
       " 2,\n",
       " 3,\n",
       " 1,\n",
       " 2,\n",
       " 5,\n",
       " 4,\n",
       " 2,\n",
       " 6,\n",
       " 2,\n",
       " 3,\n",
       " 2,\n",
       " 5,\n",
       " 3,\n",
       " 3,\n",
       " 5,\n",
       " 7,\n",
       " 5,\n",
       " 2,\n",
       " 3,\n",
       " 3,\n",
       " 5,\n",
       " 2,\n",
       " 3,\n",
       " 2,\n",
       " 9,\n",
       " 4,\n",
       " 6,\n",
       " 2,\n",
       " 4,\n",
       " 1,\n",
       " 6,\n",
       " 1,\n",
       " 3,\n",
       " 7,\n",
       " 2,\n",
       " 5,\n",
       " 6,\n",
       " 3,\n",
       " 4,\n",
       " 4,\n",
       " 3,\n",
       " 4,\n",
       " 2,\n",
       " 10,\n",
       " 2,\n",
       " 3,\n",
       " 4,\n",
       " 6,\n",
       " 5,\n",
       " 1,\n",
       " 3,\n",
       " 7,\n",
       " 5,\n",
       " 2,\n",
       " 2,\n",
       " 6,\n",
       " 1,\n",
       " 2,\n",
       " 2,\n",
       " 2,\n",
       " 0,\n",
       " 5,\n",
       " 3,\n",
       " 4,\n",
       " 4,\n",
       " 2,\n",
       " 6,\n",
       " 2,\n",
       " 3,\n",
       " 3,\n",
       " 3,\n",
       " 5,\n",
       " 7,\n",
       " 4,\n",
       " 6,\n",
       " 4,\n",
       " 6,\n",
       " 1,\n",
       " 3,\n",
       " 3,\n",
       " 1,\n",
       " 1,\n",
       " 3,\n",
       " 4,\n",
       " 4,\n",
       " 3,\n",
       " 0,\n",
       " 2,\n",
       " 1,\n",
       " 5,\n",
       " 3,\n",
       " 2,\n",
       " 1,\n",
       " 2,\n",
       " 2,\n",
       " 2,\n",
       " 2,\n",
       " 4,\n",
       " 2,\n",
       " 3,\n",
       " 1,\n",
       " 5,\n",
       " 3,\n",
       " 2,\n",
       " 1,\n",
       " 1,\n",
       " 7,\n",
       " 4,\n",
       " 2,\n",
       " 4,\n",
       " 1,\n",
       " 6,\n",
       " 5,\n",
       " 4,\n",
       " 6,\n",
       " 3,\n",
       " 3,\n",
       " 3,\n",
       " 5,\n",
       " 2,\n",
       " 0,\n",
       " 3,\n",
       " 3,\n",
       " 4,\n",
       " 1,\n",
       " 2,\n",
       " 5,\n",
       " 4,\n",
       " 3,\n",
       " 2,\n",
       " 6,\n",
       " 6,\n",
       " 8,\n",
       " 3,\n",
       " 4,\n",
       " 1,\n",
       " 2,\n",
       " 4,\n",
       " 6,\n",
       " 3,\n",
       " 3,\n",
       " 2,\n",
       " 8,\n",
       " 2,\n",
       " 2,\n",
       " 1,\n",
       " 3,\n",
       " 10,\n",
       " 4,\n",
       " 1,\n",
       " 4,\n",
       " 3,\n",
       " 3,\n",
       " 4,\n",
       " 6,\n",
       " 6,\n",
       " 2,\n",
       " 4,\n",
       " 4,\n",
       " 2,\n",
       " 2,\n",
       " 5,\n",
       " 5,\n",
       " 5,\n",
       " 5,\n",
       " 5,\n",
       " 0,\n",
       " 3,\n",
       " 1,\n",
       " 2,\n",
       " 5,\n",
       " 1,\n",
       " 3,\n",
       " 6,\n",
       " 5,\n",
       " 2,\n",
       " 2,\n",
       " 7,\n",
       " 7,\n",
       " 8,\n",
       " 6,\n",
       " 2,\n",
       " 3,\n",
       " 2,\n",
       " 3,\n",
       " 7,\n",
       " 3,\n",
       " 4,\n",
       " 2,\n",
       " 4,\n",
       " 3,\n",
       " 4,\n",
       " 4,\n",
       " 2,\n",
       " 4,\n",
       " 9,\n",
       " 8,\n",
       " 3,\n",
       " 1,\n",
       " 3,\n",
       " 4,\n",
       " 6,\n",
       " 6,\n",
       " 2,\n",
       " 4,\n",
       " 3,\n",
       " 4,\n",
       " 4,\n",
       " 9,\n",
       " 8,\n",
       " 4,\n",
       " 5,\n",
       " 5,\n",
       " 4,\n",
       " 3,\n",
       " 2,\n",
       " 5,\n",
       " 6,\n",
       " 3,\n",
       " 1,\n",
       " 3,\n",
       " 3,\n",
       " 3,\n",
       " 3,\n",
       " 2,\n",
       " 5,\n",
       " 4,\n",
       " 3,\n",
       " 5,\n",
       " 4,\n",
       " 4,\n",
       " 5,\n",
       " 9,\n",
       " 2,\n",
       " 3,\n",
       " 5,\n",
       " 3,\n",
       " 2,\n",
       " 3,\n",
       " 5,\n",
       " 4,\n",
       " 3,\n",
       " 4,\n",
       " 2,\n",
       " 6,\n",
       " 6,\n",
       " 5,\n",
       " 7,\n",
       " 5,\n",
       " 6,\n",
       " 4,\n",
       " 4,\n",
       " 0,\n",
       " 0,\n",
       " 3,\n",
       " 7,\n",
       " 11,\n",
       " 4,\n",
       " 4,\n",
       " 5,\n",
       " 2,\n",
       " 5,\n",
       " 0,\n",
       " 3,\n",
       " 3,\n",
       " 4,\n",
       " 3,\n",
       " 3,\n",
       " 11,\n",
       " 2,\n",
       " 5,\n",
       " 5,\n",
       " 5,\n",
       " 3,\n",
       " 3,\n",
       " 10,\n",
       " 3,\n",
       " 4,\n",
       " 8,\n",
       " 3,\n",
       " 5,\n",
       " 1,\n",
       " 5,\n",
       " 7,\n",
       " 6,\n",
       " 5,\n",
       " 2,\n",
       " 5,\n",
       " 3,\n",
       " 1,\n",
       " 6,\n",
       " 7,\n",
       " 1,\n",
       " 1,\n",
       " 3,\n",
       " 7,\n",
       " 4,\n",
       " 3,\n",
       " 2,\n",
       " 8,\n",
       " 7,\n",
       " 8,\n",
       " 1,\n",
       " 2,\n",
       " 4,\n",
       " 4,\n",
       " 5,\n",
       " 1,\n",
       " 5,\n",
       " 3,\n",
       " 4,\n",
       " 5,\n",
       " 3,\n",
       " 7,\n",
       " 2,\n",
       " 0,\n",
       " 2,\n",
       " 2,\n",
       " 6,\n",
       " 4,\n",
       " 0,\n",
       " 4,\n",
       " 1,\n",
       " 4,\n",
       " 5,\n",
       " 8,\n",
       " 3,\n",
       " 1,\n",
       " 2,\n",
       " 2,\n",
       " 1,\n",
       " 3,\n",
       " 2,\n",
       " 1,\n",
       " 1,\n",
       " 4,\n",
       " 6,\n",
       " 8,\n",
       " 5,\n",
       " 2,\n",
       " 4,\n",
       " 6,\n",
       " 9,\n",
       " 2,\n",
       " 1,\n",
       " 1,\n",
       " 2,\n",
       " 3,\n",
       " 10,\n",
       " 2,\n",
       " 4,\n",
       " 5,\n",
       " 3,\n",
       " 4,\n",
       " 2,\n",
       " 5,\n",
       " 7,\n",
       " 1,\n",
       " 1,\n",
       " 7,\n",
       " 3,\n",
       " 3,\n",
       " 2,\n",
       " 8,\n",
       " 4,\n",
       " 5,\n",
       " 2,\n",
       " 4,\n",
       " 7,\n",
       " 5,\n",
       " 2,\n",
       " 5,\n",
       " 2,\n",
       " 5,\n",
       " 5,\n",
       " 1,\n",
       " 1,\n",
       " 3,\n",
       " 6,\n",
       " 3,\n",
       " 3,\n",
       " 4,\n",
       " 5,\n",
       " 3,\n",
       " 9,\n",
       " 5,\n",
       " 3,\n",
       " 2,\n",
       " 4,\n",
       " 3,\n",
       " 6,\n",
       " 3,\n",
       " 5,\n",
       " 2,\n",
       " 6,\n",
       " 3,\n",
       " 3,\n",
       " 6,\n",
       " 4,\n",
       " 4,\n",
       " 3,\n",
       " 2,\n",
       " 4,\n",
       " 7,\n",
       " 5,\n",
       " 6,\n",
       " 6,\n",
       " 0,\n",
       " 4,\n",
       " 3,\n",
       " 0,\n",
       " 3,\n",
       " 4,\n",
       " 5,\n",
       " 1,\n",
       " 2,\n",
       " 3,\n",
       " 6,\n",
       " 3,\n",
       " 3,\n",
       " 7,\n",
       " 5,\n",
       " 6,\n",
       " 4,\n",
       " 2,\n",
       " 3,\n",
       " 3,\n",
       " 6,\n",
       " 6,\n",
       " 6,\n",
       " 7,\n",
       " 7,\n",
       " 2,\n",
       " 0,\n",
       " 3,\n",
       " 5,\n",
       " 5,\n",
       " 5,\n",
       " 3,\n",
       " 1,\n",
       " 3,\n",
       " 4,\n",
       " 4,\n",
       " 2,\n",
       " 4,\n",
       " 7,\n",
       " 4,\n",
       " 1,\n",
       " 1,\n",
       " 4,\n",
       " 3,\n",
       " 3,\n",
       " 4,\n",
       " 6,\n",
       " 2,\n",
       " 5,\n",
       " 5,\n",
       " 4,\n",
       " 5,\n",
       " 3,\n",
       " 4,\n",
       " 2,\n",
       " 4,\n",
       " 3,\n",
       " 6,\n",
       " 4,\n",
       " 3,\n",
       " 6,\n",
       " 5,\n",
       " 2,\n",
       " 4,\n",
       " 4,\n",
       " 4,\n",
       " 1,\n",
       " 6,\n",
       " 4,\n",
       " 4,\n",
       " 2,\n",
       " 3,\n",
       " 7,\n",
       " 6,\n",
       " 7,\n",
       " 2,\n",
       " 1,\n",
       " 4,\n",
       " 5,\n",
       " 5,\n",
       " 1,\n",
       " 6,\n",
       " 4,\n",
       " 2,\n",
       " 4,\n",
       " 3,\n",
       " 6,\n",
       " 3,\n",
       " 3,\n",
       " 2,\n",
       " 4,\n",
       " 2,\n",
       " 4,\n",
       " 4,\n",
       " 1,\n",
       " 2,\n",
       " 3,\n",
       " 3,\n",
       " 4,\n",
       " 3,\n",
       " 3,\n",
       " 6,\n",
       " 5,\n",
       " 5,\n",
       " 4,\n",
       " 3,\n",
       " 3,\n",
       " 6,\n",
       " 5,\n",
       " 4,\n",
       " 4,\n",
       " 7,\n",
       " 9,\n",
       " 3,\n",
       " 4,\n",
       " 3,\n",
       " 4,\n",
       " 2,\n",
       " 5,\n",
       " 4,\n",
       " 7,\n",
       " 4,\n",
       " 5,\n",
       " 3,\n",
       " 2,\n",
       " 4,\n",
       " 4,\n",
       " 5,\n",
       " 5,\n",
       " 2,\n",
       " 4,\n",
       " 2,\n",
       " 4,\n",
       " 1,\n",
       " 4,\n",
       " 2,\n",
       " 0,\n",
       " 2,\n",
       " 7,\n",
       " 6,\n",
       " 3,\n",
       " 4,\n",
       " 5,\n",
       " 6,\n",
       " 6,\n",
       " 2,\n",
       " 7,\n",
       " 1,\n",
       " 3,\n",
       " 7,\n",
       " 6,\n",
       " 4,\n",
       " 1,\n",
       " 3,\n",
       " 0,\n",
       " 3,\n",
       " 2,\n",
       " 1,\n",
       " 1,\n",
       " 5,\n",
       " 3,\n",
       " 5,\n",
       " 4,\n",
       " 4,\n",
       " 3,\n",
       " 3,\n",
       " 3,\n",
       " 5,\n",
       " 1,\n",
       " 4,\n",
       " 6,\n",
       " 3,\n",
       " 4,\n",
       " 3,\n",
       " 5,\n",
       " 8,\n",
       " 5,\n",
       " 2,\n",
       " 1,\n",
       " 5,\n",
       " 3,\n",
       " 4,\n",
       " 6,\n",
       " 4,\n",
       " 6,\n",
       " 7,\n",
       " 6,\n",
       " 1,\n",
       " 1,\n",
       " 3,\n",
       " 5,\n",
       " 7,\n",
       " 5,\n",
       " 3,\n",
       " 2,\n",
       " 1,\n",
       " 2,\n",
       " 2,\n",
       " 6,\n",
       " 5,\n",
       " 1,\n",
       " 2,\n",
       " 1,\n",
       " 2,\n",
       " 2,\n",
       " 5,\n",
       " 1,\n",
       " 2,\n",
       " 1,\n",
       " 2,\n",
       " 0,\n",
       " 3,\n",
       " 4,\n",
       " 5,\n",
       " 2,\n",
       " 3,\n",
       " 4,\n",
       " 2,\n",
       " 4,\n",
       " 1,\n",
       " 5,\n",
       " 4,\n",
       " 2,\n",
       " 6,\n",
       " 9,\n",
       " 6,\n",
       " 5,\n",
       " 4,\n",
       " 5,\n",
       " 5,\n",
       " 2,\n",
       " 7,\n",
       " 4,\n",
       " 5,\n",
       " 5,\n",
       " 1,\n",
       " 6,\n",
       " 5,\n",
       " 1,\n",
       " 6,\n",
       " 2,\n",
       " 2,\n",
       " 2,\n",
       " 6,\n",
       " 3,\n",
       " 0,\n",
       " 2,\n",
       " 3,\n",
       " 2,\n",
       " 1,\n",
       " 8,\n",
       " 3,\n",
       " 4,\n",
       " 2,\n",
       " 9,\n",
       " 4,\n",
       " 2,\n",
       " 6,\n",
       " 3,\n",
       " 2,\n",
       " 2,\n",
       " 2,\n",
       " 4,\n",
       " 4,\n",
       " 4,\n",
       " 3,\n",
       " 2,\n",
       " 4,\n",
       " 2,\n",
       " 3,\n",
       " 3,\n",
       " 2,\n",
       " 5,\n",
       " 2,\n",
       " 6,\n",
       " 3,\n",
       " 3,\n",
       " 4,\n",
       " 3,\n",
       " 4,\n",
       " 2,\n",
       " 1,\n",
       " 4,\n",
       " 1,\n",
       " 2,\n",
       " 5,\n",
       " 5,\n",
       " 6,\n",
       " 5,\n",
       " 5,\n",
       " 1,\n",
       " 3,\n",
       " 10,\n",
       " 5,\n",
       " 3,\n",
       " 2,\n",
       " 6,\n",
       " 2,\n",
       " 4,\n",
       " 0,\n",
       " 5,\n",
       " 2,\n",
       " 8,\n",
       " 3,\n",
       " 5,\n",
       " 5,\n",
       " 2,\n",
       " 4,\n",
       " 3,\n",
       " 2,\n",
       " 4,\n",
       " 6,\n",
       " 1,\n",
       " 4,\n",
       " 1,\n",
       " 6,\n",
       " 3,\n",
       " 5,\n",
       " 3,\n",
       " 4,\n",
       " 4,\n",
       " 0,\n",
       " 1,\n",
       " 3,\n",
       " 3,\n",
       " 4,\n",
       " 1,\n",
       " 2,\n",
       " 3,\n",
       " 4,\n",
       " 2,\n",
       " 2,\n",
       " 4,\n",
       " 6,\n",
       " 3,\n",
       " 2,\n",
       " 2,\n",
       " 4,\n",
       " 1,\n",
       " 4,\n",
       " 5,\n",
       " 2,\n",
       " 2,\n",
       " 4,\n",
       " 6,\n",
       " 2,\n",
       " 4,\n",
       " 6,\n",
       " 2,\n",
       " 2,\n",
       " 2,\n",
       " 5,\n",
       " 4,\n",
       " 1,\n",
       " 5,\n",
       " 3,\n",
       " 6,\n",
       " 7,\n",
       " 5,\n",
       " 0,\n",
       " 3,\n",
       " 3,\n",
       " 4,\n",
       " 8,\n",
       " 1,\n",
       " 3,\n",
       " 3,\n",
       " 2,\n",
       " 5,\n",
       " 4,\n",
       " 7,\n",
       " 3,\n",
       " 7,\n",
       " 5,\n",
       " 5,\n",
       " 6,\n",
       " 4,\n",
       " 2,\n",
       " 4,\n",
       " 4,\n",
       " 4,\n",
       " 3,\n",
       " 2,\n",
       " 3,\n",
       " 3,\n",
       " 1,\n",
       " 8,\n",
       " 4,\n",
       " 3,\n",
       " 1,\n",
       " 2,\n",
       " 0,\n",
       " 6,\n",
       " 6,\n",
       " 3,\n",
       " 4,\n",
       " 5,\n",
       " 1,\n",
       " 5,\n",
       " 5,\n",
       " 6,\n",
       " 6,\n",
       " 4,\n",
       " 4,\n",
       " 3,\n",
       " 4,\n",
       " 7,\n",
       " 5,\n",
       " 3,\n",
       " 1,\n",
       " 0,\n",
       " 4,\n",
       " 3,\n",
       " 5,\n",
       " 4,\n",
       " 2,\n",
       " 5,\n",
       " 4,\n",
       " 5,\n",
       " 1,\n",
       " 4,\n",
       " 2,\n",
       " 4,\n",
       " 2,\n",
       " 7,\n",
       " 1,\n",
       " 3,\n",
       " 0,\n",
       " 4,\n",
       " 1,\n",
       " 4,\n",
       " 5,\n",
       " 6,\n",
       " 4,\n",
       " 2,\n",
       " 3,\n",
       " 4,\n",
       " 4,\n",
       " 7,\n",
       " 3,\n",
       " 3,\n",
       " 3,\n",
       " 2,\n",
       " 3,\n",
       " 3,\n",
       " 3,\n",
       " 1,\n",
       " 2,\n",
       " 1,\n",
       " 5,\n",
       " 3,\n",
       " 8,\n",
       " 5,\n",
       " 2,\n",
       " 3,\n",
       " 6,\n",
       " 6,\n",
       " 2,\n",
       " 2,\n",
       " 6,\n",
       " 2,\n",
       " 5,\n",
       " 4,\n",
       " 0,\n",
       " 5,\n",
       " 2,\n",
       " 6,\n",
       " 3,\n",
       " 4,\n",
       " 8,\n",
       " 5,\n",
       " 2,\n",
       " 4,\n",
       " 10,\n",
       " 4,\n",
       " 5,\n",
       " ...]"
      ]
     },
     "execution_count": 52,
     "metadata": {},
     "output_type": "execute_result"
    }
   ],
   "source": [
    "(ndet[\"detectionNZ\"])"
   ]
  },
  {
   "cell_type": "code",
   "execution_count": 53,
   "metadata": {
    "scrolled": false
   },
   "outputs": [
    {
     "data": {
      "image/png": "[encoded data removed]",
      "text/plain": [
       "<Figure size 880x660 with 1 Axes>"
      ]
     },
     "metadata": {
      "needs_background": "light"
     },
     "output_type": "display_data"
    }
   ],
   "source": [
    "from astropy.visualization import hist\n",
    "plt.figure(figsize=[4.4,3.3],dpi=200)\n",
    "hist1=hist(nz_detectionNZFin,bins='blocks',linewidth=\".5\",histtype='bar',ec='gray',\n",
    "           color=\"lightblue\",\\\n",
    "          )\n",
    "plt.plot([np.nanmedian(nz_detectionNZFin),np.nanmedian(nz_detectionNZFin)],\n",
    "         [0,hist1[0].max()+5],\n",
    "        color=\"black\",#label=\"Outer HZ\"\n",
    "         linewidth=0.5\n",
    "        )\n",
    "\n",
    "\n",
    "hist1=hist(nz_detectionNZFin,linewidth=\".5\",histtype='bar',ec='gray',\n",
    "           color=\"blue\",bins=100,alpha=.4 \n",
    "          )\n",
    "\n",
    "#plt.ylim([0,hist1[0].max()+15])\n",
    "plt.text((np.nanmedian(nz_detectionNZFin))+4, hist1[0].max()+1,\n",
    "         str(r\"$\\tilde{n_{\\rm Z}}$=%.1f\"%(np.nanmedian(nz_detectionNZFin))\n",
    "             +r\" for $\\alpha$=\"+str(alphaZ))+r\", f$_{\\rm pp}$=%.3f \"%(f_pp),\n",
    "         fontsize=9,color=\"blue\",alpha=.4 )\n",
    "\n",
    "\n",
    "         #\" \\n $n_{sys}$=%.1i\"%(nz_critOuterFin.size)\n",
    "         \n",
    "\n",
    "\n",
    "\n",
    "plt.xlabel(\"n$_{z}$\")\n",
    "#plt.legend()\n",
    "#plt.xlim([0,200])\n",
    "#plt.xscale('symlog', linthreshy=2000)\n",
    "plt.ylabel(\"N$_{stars}$\")\n",
    "plt.minorticks_on()\n",
    "plt.savefig(\"WFIRST-CGI-disks-Uno/sensitivity_%isigma\"%(SNR)\n",
    "            +str(alphaZ).replace(\".\",\"_\")+\"alpha\"\n",
    "            +mode[\"systName\"]+str(f_pp)+\".pdf\",\n",
    "            bbox_inches=\"tight\")\n",
    "#hist1[0].sum(),hist2[0].sum()\n",
    "\n"
   ]
  },
  {
   "cell_type": "code",
   "execution_count": 54,
   "metadata": {},
   "outputs": [
    {
     "data": {
      "text/plain": [
       "74"
      ]
     },
     "execution_count": 54,
     "metadata": {},
     "output_type": "execute_result"
    }
   ],
   "source": [
    "nz_detectionNZFin.size"
   ]
  },
  {
   "cell_type": "code",
   "execution_count": 55,
   "metadata": {
    "scrolled": false
   },
   "outputs": [
    {
     "data": {
      "image/png": "[encoded data removed]",
      "text/plain": [
       "<Figure size 880x660 with 2 Axes>"
      ]
     },
     "metadata": {
      "needs_background": "light"
     },
     "output_type": "display_data"
    }
   ],
   "source": [
    "from astropy.visualization import hist\n",
    "# If we were to simply plot pts, we'd lose most of the interesting\n",
    "# details due to the outliers. So let's 'break' or 'cut-out' the y-axis\n",
    "# into two portions - use the top (ax1) for the outliers, and the bottom\n",
    "# (ax2) for the details of the majority of our data\n",
    "\n",
    "fig, (ax1, ax2) = plt.subplots(2, 1, sharex=True,figsize=[4.4,3.3],dpi=200)\n",
    "\n",
    "ax1 = plt.subplot2grid((3, 1), (0, 0))\n",
    "ax2 = plt.subplot2grid((3, 1), (1, 0),rowspan=2)\n",
    "\n",
    "fig.subplots_adjust(hspace=0.05)  # adjust space between axes\n",
    "\n",
    "# plot the same data on both axes\n",
    "\n",
    "\n",
    "\n",
    "hist1=hist(nz_detectionNZFin,bins='blocks',linewidth=\".5\",histtype='bar',ec='gray',\n",
    "           color=\"lightblue\",ax=ax1,\n",
    "          )\n",
    "\n",
    "hist1=hist(nz_detectionNZFin,bins='blocks',linewidth=\".5\",histtype='bar',ec='gray',\n",
    "           color=\"lightblue\",ax=ax2,\n",
    "          )\n",
    "\n",
    "# zoom-in / limit the view to different portions of the data\n",
    "ax1.set_ylim(48, hist1[0].max()+2)  # outliers only\n",
    "ax2.set_ylim(0,28 )  # most of the data\n",
    "\n",
    "# hide the spines between ax and ax2\n",
    "ax1.spines['bottom'].set_visible(False)\n",
    "ax2.spines['top'].set_visible(False)\n",
    "ax1.xaxis.tick_top()\n",
    "ax1.tick_params(labeltop=False)  # don't put tick labels at the top\n",
    "ax2.xaxis.tick_bottom()\n",
    "\n",
    "# Now, let's turn towards the cut-out slanted lines.\n",
    "# We create line objects in axes coordinates, in which (0,0), (0,1),\n",
    "# (1,0), and (1,1) are the four corners of the axes.\n",
    "# The slanted lines themselves are markers at those locations, such that the\n",
    "# lines keep their angle and position, independent of the axes size or scale\n",
    "# Finally, we need to disable clipping.\n",
    "\n",
    "d = .5  # proportion of vertical to horizontal extent of the slanted line\n",
    "kwargs = dict(marker=[(-1, -d), (1, d)], markersize=12,\n",
    "              linestyle=\"none\", color='k', mec='k', mew=1, clip_on=False)\n",
    "ax1.plot([0, 1], [0, 0], transform=ax1.transAxes, **kwargs)\n",
    "ax2.plot([0, 1], [1, 1], transform=ax2.transAxes, **kwargs)\n",
    "\n",
    "\n",
    "\n",
    "ax1.plot([np.nanmedian(nz_detectionNZFin),np.nanmedian(nz_detectionNZFin)],\n",
    "         [0,hist1[0].max()+5],\n",
    "        color=\"black\",#label=\"Outer HZ\"\n",
    "         linewidth=0.5\n",
    "        )\n",
    "\n",
    "ax2.plot([np.nanmedian(nz_detectionNZFin),np.nanmedian(nz_detectionNZFin)],\n",
    "         [0,hist1[0].max()+5],\n",
    "        color=\"black\",#label=\"Outer HZ\"\n",
    "         linewidth=0.5\n",
    "        )\n",
    "\n",
    "\n",
    "\n",
    "hist1=hist(nz_detectionNZFin,linewidth=\".5\",histtype='bar',ec='gray',\n",
    "           color=\"blue\",bins=100,alpha=.4 \n",
    "          )\n",
    "\n",
    "ax2.text((np.nanmedian(nz_detectionNZFin))+4, hist1[0].max()-2,\n",
    "         str(r\"$\\tilde{\\mathrm{n}_{\\rm Z}}$=%.1f\"%(np.nanmedian(nz_detectionNZFin))\n",
    "             +r\" for $\\alpha$=\"+str(alphaZ))+r\", f$_{\\rm pp}$=%.3f \"%(f_pp),\n",
    "         fontsize=9,color=\"blue\", )\n",
    "\n",
    "\n",
    "         #\" \\n $n_{sys}$=%.1i\"%(nz_critOuterFin.size)\n",
    "         \n",
    "\n",
    "ax1.set_xscale(\"log\")\n",
    "\n",
    "ax2.set_xscale(\"log\")\n",
    "\n",
    "\n",
    "\n",
    "\n",
    "plt.xlabel(\"n$_{z}$\")\n",
    "#plt.legend()\n",
    "#plt.xlim([0,200])\n",
    "#plt.xscale('symlog', linthreshy=2000)\n",
    "plt.ylabel(\"N$_{stars}$\")\n",
    "plt.minorticks_on()\n",
    "plt.savefig(\"WFIRST-CGI-disks-Uno/sensitivity_%isigma\"%(SNR)\n",
    "            +str(alphaZ).replace(\".\",\"_\")+\"alpha\"\n",
    "            +mode[\"systName\"]+str(f_pp)+\".pdf\",\n",
    "            bbox_inches=\"tight\")\n",
    "#hist1[0].sum(),hist2[0].sum()\n",
    "\n"
   ]
  },
  {
   "cell_type": "code",
   "execution_count": 56,
   "metadata": {},
   "outputs": [
    {
     "data": {
      "text/plain": [
       "(74,)"
      ]
     },
     "execution_count": 56,
     "metadata": {},
     "output_type": "execute_result"
    }
   ],
   "source": [
    "np.shape(nz_detectionNZFin>0)"
   ]
  },
  {
   "cell_type": "code",
   "execution_count": null,
   "metadata": {},
   "outputs": [],
   "source": []
  },
  {
   "cell_type": "markdown",
   "metadata": {},
   "source": [
    "##### "
   ]
  },
  {
   "cell_type": "code",
   "execution_count": 57,
   "metadata": {},
   "outputs": [
    {
     "data": {
      "text/plain": [
       "74"
      ]
     },
     "execution_count": 57,
     "metadata": {},
     "output_type": "execute_result"
    }
   ],
   "source": [
    "np.size(nz_detectionNZFin>0)"
   ]
  },
  {
   "cell_type": "code",
   "execution_count": 58,
   "metadata": {},
   "outputs": [],
   "source": [
    "countsNez=detectionNZ*extraOuter[\"C_ez\"]"
   ]
  },
  {
   "cell_type": "code",
   "execution_count": 59,
   "metadata": {},
   "outputs": [
    {
     "data": {
      "text/latex": [
       "$[0.0090599987,~0.0030016734,~0.0032532926,~0.0020960892,~0.0077332764,~0.007869693] \\; \\mathrm{\\frac{1}{s}}$"
      ],
      "text/plain": [
       "<Quantity [0.00906   , 0.00300167, 0.00325329, 0.00209609, 0.00773328,\n",
       "           0.00786969] 1 / s>"
      ]
     },
     "execution_count": 59,
     "metadata": {},
     "output_type": "execute_result"
    },
    {
     "data": {
      "image/png": "[encoded data removed]",
      "text/plain": [
       "<Figure size 432x288 with 1 Axes>"
      ]
     },
     "metadata": {
      "needs_background": "light"
     },
     "output_type": "display_data"
    }
   ],
   "source": [
    "plt.scatter(TL.Vmag,extraIWA[\"C_sr\"],)\n",
    "extraIWA[\"C_ez\"][TL.Vmag<3]"
   ]
  },
  {
   "cell_type": "code",
   "execution_count": 60,
   "metadata": {},
   "outputs": [
    {
     "name": "stdout",
     "output_type": "stream",
     "text": [
      "['HIP 37279' 'HIP 97649' 'HIP 113368' 'HIP 57632']\n"
     ]
    },
    {
     "data": {
      "image/png": "[encoded data removed]",
      "text/plain": [
       "<Figure size 432x288 with 1 Axes>"
      ]
     },
     "metadata": {
      "needs_background": "light"
     },
     "output_type": "display_data"
    }
   ],
   "source": [
    "plt.scatter(TL.Vmag , detectionNZ)\n",
    "print(TL.Name[TL.Vmag<2.5])"
   ]
  },
  {
   "cell_type": "code",
   "execution_count": 61,
   "metadata": {},
   "outputs": [
    {
     "data": {
      "image/png": "[encoded data removed]",
      "text/plain": [
       "<Figure size 432x288 with 1 Axes>"
      ]
     },
     "metadata": {
      "needs_background": "light"
     },
     "output_type": "display_data"
    }
   ],
   "source": [
    "exp_SNR=4.5\n",
    "\n",
    "#                intTime = np.true_divide(SNR**2.*C_b, (C_p**2. - (SNR*C_sp)**2.))\n",
    "intTime = np.true_divide(exp_SNR**2.*cbIWA,((countsNez)**2. - (f_pp*exp_SNR*extraIWA[\"C_sr\"])**2.)).to(u.hour)\n",
    "#plt.plot(intTime)\n",
    "sel=np.where((outerHZs>mode[ 'IWA'])&(intTime>0))\n",
    "plt.plot(range(intTime[sel].size),np.cumsum(np.sort(intTime[sel],)),\n",
    "         label=\"SNR=%.3g\"%exp_SNR)\n",
    "#plt.plot(extraOuter[\"C_ez\"]/extraOuter[\"C_sr\"])\n",
    "exp_SNR=3\n",
    "\n",
    "#                intTime = np.true_divide(SNR**2.*C_b, (C_p**2. - (SNR*C_sp)**2.))\n",
    "intTime = np.true_divide(exp_SNR**2.*cbIWA,((countsNez)**2. - (f_pp*exp_SNR*extraIWA[\"C_sr\"])**2.)).to(u.hour)\n",
    "#plt.plot(intTime)\n",
    "sel=np.where((outerHZs>mode[ 'IWA'])&(intTime>0))\n",
    "plt.plot(range(intTime[sel].size),np.cumsum(np.sort(intTime[sel],)),\n",
    "         label=\"SNR=%.3g\"%exp_SNR)\n",
    "#plt.plot(extraOuter[\"C_ez\"]/extraOuter[\"C_sr\"])\n",
    "plt.xlabel(\"Number of systems\")\n",
    "plt.legend()\n",
    "plt.ylabel(\"Total Observation Time [\"+str(intTime.unit)+\"]\")\n",
    "plt.savefig(\"WFIRST-CGI-disks-Uno/exptime\"+mode[\"systName\"]+\".pdf\",bbox_inches=\"tight\")\n"
   ]
  },
  {
   "cell_type": "code",
   "execution_count": 62,
   "metadata": {},
   "outputs": [
    {
     "data": {
      "text/plain": [
       "'$\\\\tilde{Z}$=11.9 for $\\x07lpha$=2.34'"
      ]
     },
     "execution_count": 62,
     "metadata": {},
     "output_type": "execute_result"
    }
   ],
   "source": [
    "r\"$\\tilde{Z}$=%.1f\"%(np.nanmedian(nz_detectionNZFin))+\" for $\\alpha$=\"+str(alphaZ)\n",
    "\n"
   ]
  },
  {
   "cell_type": "code",
   "execution_count": 63,
   "metadata": {
    "scrolled": true
   },
   "outputs": [
    {
     "name": "stdout",
     "output_type": "stream",
     "text": [
      "signal rate[0.04171053] 1 / s\n",
      "raw speckle rate w/o post processing: [0.03284776] 1 / s\n",
      "critical_n zodi w/f_pp:[9.84396438]\n",
      "nzcrit [9.84396438]\n",
      "speckle rate post processed: [0.00821194] 1 / s\n",
      "raw background rate : [0.07069524] 1 / s\n",
      "IWA AU [0.61242478] AU\n",
      "d [pc][3.65016794] pc\n",
      "V-mag[3.6295]\n"
     ]
    },
    {
     "name": "stderr",
     "output_type": "stream",
     "text": [
      "/Users/edouglas/anaconda3/envs/python39/lib/python3.9/site-packages/astropy/units/quantity.py:1039: FutureWarning: Using a non-tuple sequence for multidimensional indexing is deprecated; use `arr[tuple(seq)]` instead of `arr[seq]`. In the future this will be interpreted as an array index, `arr[np.array(seq)]`, which will result either in an error or a different result.\n",
      "  out = super().__getitem__(key)\n",
      "<ipython-input-63-c492079d4cac>:18: FutureWarning: Using a non-tuple sequence for multidimensional indexing is deprecated; use `arr[tuple(seq)]` instead of `arr[seq]`. In the future this will be interpreted as an array index, `arr[np.array(seq)]`, which will result either in an error or a different result.\n",
      "  print(\"V-mag{}\".format(TL.Vmag[ref_star]))\n"
     ]
    }
   ],
   "source": [
    "#-TL.starMag(allstars, mode[\"lam\"])\n",
    "#print(extraOuter[\"C_sr\"][ref_star],extraOuter[\"C_ez\"][ref_star])#77\n",
    "#spot checks\n",
    "ref_star=[TL.Name==\"HIP 8102\"]\n",
    "print(\"signal rate\"+str(extraIWA[\"C_ez\"][ref_star]*10))#77\n",
    "\n",
    "print(\"raw speckle rate w/o post processing: \"+str(extraIWA[\"C_sr\"][ref_star]))\n",
    "\n",
    "print(\"critical_n zodi w/f_pp:\"+str(csp[ref_star]/(extraIWA[\"C_ez\"][ref_star])*5))\n",
    "print(\"nzcrit {}\".format(detectionNZ[ref_star]))\n",
    "\n",
    "\n",
    "print(\"speckle rate post processed: \"+str(csp[ref_star]))\n",
    "\n",
    "print(\"raw background rate : \"+str(cb[ref_star]))\n",
    "print(\"IWA AU {}\".format(IWA_AU[ref_star]))\n",
    "print(\"d [pc]{}\".format(TL.dist[ref_star]))\n",
    "print(\"V-mag{}\".format(TL.Vmag[ref_star]))"
   ]
  },
  {
   "cell_type": "code",
   "execution_count": 64,
   "metadata": {},
   "outputs": [],
   "source": [
    "np.savetxt(\"WFIRST-CGI-disks-Uno/HIP_names.txt\", HIP, fmt='%i,',delimiter=\",\")"
   ]
  },
  {
   "cell_type": "markdown",
   "metadata": {},
   "source": [
    "## "
   ]
  }
 ],
 "metadata": {
  "kernelspec": {
   "display_name": "Python [conda env:python39]",
   "language": "python",
   "name": "conda-env-python39-py"
  },
  "language_info": {
   "codemirror_mode": {
    "name": "ipython",
    "version": 3
   },
   "file_extension": ".py",
   "mimetype": "text/x-python",
   "name": "python",
   "nbconvert_exporter": "python",
   "pygments_lexer": "ipython3",
   "version": "3.9.2"
  }
 },
 "nbformat": 4,
 "nbformat_minor": 4
}
